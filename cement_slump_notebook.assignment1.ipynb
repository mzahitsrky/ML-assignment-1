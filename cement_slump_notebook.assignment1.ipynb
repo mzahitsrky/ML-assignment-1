{
 "cells": [
  {
   "cell_type": "markdown",
   "metadata": {
    "id": "eHhytqKxLkKN"
   },
   "source": [
    "# Concrete Slump Test Regression"
   ]
  },
  {
   "cell_type": "markdown",
   "metadata": {
    "id": "FyMIezE2LkKR"
   },
   "source": [
    "The concrete slump test measures the consistency of fresh concrete before it sets. It is performed to check the workability of freshly made concrete, and therefore the ease with which concrete flows. It can also be used as an indicator of an improperly mixed batch.\n",
    "\n",
    "<img src=\"https://i0.wp.com/civiconcepts.com/wp-content/uploads/2019/08/Slump-Cone-test-of-concrete.jpg?fit=977%2C488&ssl=1\">\n",
    "\n",
    "Our data set consists of various cement properties and the resulting slump test metrics in cm. Later on the set concrete is tested for its compressive strength 28 days later.\n",
    "\n",
    "Input variables (9):\n",
    "\n",
    "(component kg in one M^3 concrete)(7):\n",
    "* Cement\n",
    "* Slag\n",
    "* Fly ash\n",
    "* Water\n",
    "* SP\n",
    "* Coarse Aggr.\n",
    "* Fine Aggr.\n",
    "\n",
    "(Measurements)(2)\n",
    "* SLUMP (cm)\n",
    "* FLOW (cm)\n",
    "\n",
    "Target variable (1):\n",
    "* **28-day Compressive Strength (Mpa)**\n",
    "\n",
    "Data Source: https://archive.ics.uci.edu/ml/datasets/Concrete+Slump+Test\n",
    "\n",
    "*Credit: Yeh, I-Cheng, \"Modeling slump flow of concrete using second-order regressions and artificial neural networks,\" Cement and Concrete Composites, Vol.29, No. 6, 474-480, 2007.*"
   ]
  },
  {
   "cell_type": "markdown",
   "metadata": {},
   "source": [
    "### Variable Information:\n",
    "\n",
    "    Given is the variable name, variable type, the measurement unit and a brief description. \n",
    "    The concrete compressive strength is the regression problem. The order of this listing \n",
    "    corresponds to the order of numerals along the rows of the database. \n",
    "\n",
    "    Name -- Data Type -- Measurement -- Description\n",
    "\n",
    "    Cement (component 1) -- quantitative -- kg in a m3 mixture -- Input Variable\n",
    "    Blast Furnace Slag (component 2) -- quantitative -- kg in a m3 mixture -- Input Variable\n",
    "    Fly Ash (component 3) -- quantitative -- kg in a m3 mixture -- Input Variable\n",
    "    Water (component 4) -- quantitative -- kg in a m3 mixture -- Input Variable\n",
    "    Superplasticizer (component 5) -- quantitative -- kg in a m3 mixture -- Input Variable\n",
    "    Coarse Aggregate (component 6) -- quantitative -- kg in a m3 mixture -- Input Variable\n",
    "    Fine Aggregate (component 7) -- quantitative -- kg in a m3 mixture -- Input Variable\n",
    "    Age -- quantitative -- Day (1~365) -- Input Variable\n",
    "    Concrete compressive strength -- quantitative -- MPa -- Output Variable\n",
    "    \n",
    "    \n",
    "    Data Set Characteristics: Multivariate\n",
    "    Attribute Characteristics: Real\n",
    "    Associated Tasks: Regression\n",
    "    Number of Instances: 103\n",
    "    Number of Attributes: 10\n",
    "    Missing Values? N/A\n",
    "    Area: Computer\n",
    "    Date Donated: 2009-04-30"
   ]
  },
  {
   "cell_type": "markdown",
   "metadata": {
    "id": "Ml-0HrEBLkKU"
   },
   "source": [
    "# Importing dependencies"
   ]
  },
  {
   "cell_type": "code",
   "execution_count": 1,
   "metadata": {
    "id": "SLDkU8VtZiFx"
   },
   "outputs": [],
   "source": [
    "import numpy as np\n",
    "import pandas as pd\n",
    "import matplotlib.pyplot as plt\n",
    "import seaborn as sns\n",
    "import scipy.stats as stats\n",
    "plt.rcParams[\"figure.figsize\"]=(10,6)\n",
    "import warnings\n",
    "warnings.filterwarnings(\"ignore\")\n",
    "import statsmodels.api as sm\n",
    "import statsmodels.formula.api as smf\n",
    "from sklearn.preprocessing import scale\n",
    "from sklearn.model_selection import train_test_split, GridSearchCV, cross_val_score # datayı split etmek için\n",
    "from sklearn.metrics import confusion_matrix, accuracy_score, classification_report\n",
    "from sklearn.metrics import roc_auc_score, roc_curve\n",
    "import statsmodels.formula.api as smf\n",
    "from sklearn.neighbors import KNeighborsClassifier #  aşahıda from ile başlayanların hepsi machine learning modellerdir\n",
    "from sklearn.discriminant_analysis import LinearDiscriminantAnalysis\n",
    "from sklearn.linear_model import  LogisticRegression\n",
    "from sklearn.svm import SVC\n",
    "from sklearn.naive_bayes import GaussianNB\n",
    "from sklearn import tree\n",
    "from sklearn.ensemble import RandomForestClassifier\n",
    "from sklearn.ensemble import GradientBoostingClassifier\n",
    "from sklearn.preprocessing import PolynomialFeatures # for convert polynomialregression\n",
    "from sklearn.linear_model import LinearRegression # for model fitting\n",
    "from sklearn.metrics import mean_absolute_error,mean_squared_error,r2_score # evaluation metricleri\n",
    "from sklearn.preprocessing import StandardScaler, MinMaxScaler,RobustScaler # scaling için kullanılan metricler\n",
    "from sklearn.model_selection import cross_validate\n",
    "from sklearn.linear_model import Ridge\n",
    "from sklearn.linear_model import RidgeCV\n",
    "from sklearn.linear_model import Lasso, LassoCV\n",
    "from sklearn.linear_model import ElasticNet, ElasticNetCV\n",
    "#%matplotlib inline\n",
    "#%matplotlib notebook\n",
    "plt.rcParams[\"figure.figsize\"] = (10,6)\n",
    "import warnings\n",
    "warnings.filterwarnings(\"ignore\")\n",
    "warnings.warn(\"this will not show\")\n",
    "pd.set_option('display.float_format', lambda x: '%.3f' % x)"
   ]
  },
  {
   "cell_type": "markdown",
   "metadata": {
    "id": "LU3s6xZXLkKW"
   },
   "source": [
    "# Loading data"
   ]
  },
  {
   "cell_type": "code",
   "execution_count": 2,
   "metadata": {
    "id": "uT2BCHzfLvLu",
    "scrolled": false
   },
   "outputs": [
    {
     "data": {
      "text/html": [
       "<div>\n",
       "<style scoped>\n",
       "    .dataframe tbody tr th:only-of-type {\n",
       "        vertical-align: middle;\n",
       "    }\n",
       "\n",
       "    .dataframe tbody tr th {\n",
       "        vertical-align: top;\n",
       "    }\n",
       "\n",
       "    .dataframe thead th {\n",
       "        text-align: right;\n",
       "    }\n",
       "</style>\n",
       "<table border=\"1\" class=\"dataframe\">\n",
       "  <thead>\n",
       "    <tr style=\"text-align: right;\">\n",
       "      <th></th>\n",
       "      <th>Cement</th>\n",
       "      <th>Slag</th>\n",
       "      <th>Fly ash</th>\n",
       "      <th>Water</th>\n",
       "      <th>SP</th>\n",
       "      <th>Coarse Aggr.</th>\n",
       "      <th>Fine Aggr.</th>\n",
       "      <th>SLUMP(cm)</th>\n",
       "      <th>FLOW(cm)</th>\n",
       "      <th>Compressive Strength (28-day)(Mpa)</th>\n",
       "    </tr>\n",
       "  </thead>\n",
       "  <tbody>\n",
       "    <tr>\n",
       "      <th>0</th>\n",
       "      <td>273.000</td>\n",
       "      <td>82.000</td>\n",
       "      <td>105.000</td>\n",
       "      <td>210.000</td>\n",
       "      <td>9.000</td>\n",
       "      <td>904.000</td>\n",
       "      <td>680.000</td>\n",
       "      <td>23.000</td>\n",
       "      <td>62.000</td>\n",
       "      <td>34.990</td>\n",
       "    </tr>\n",
       "    <tr>\n",
       "      <th>1</th>\n",
       "      <td>163.000</td>\n",
       "      <td>149.000</td>\n",
       "      <td>191.000</td>\n",
       "      <td>180.000</td>\n",
       "      <td>12.000</td>\n",
       "      <td>843.000</td>\n",
       "      <td>746.000</td>\n",
       "      <td>0.000</td>\n",
       "      <td>20.000</td>\n",
       "      <td>41.140</td>\n",
       "    </tr>\n",
       "    <tr>\n",
       "      <th>2</th>\n",
       "      <td>162.000</td>\n",
       "      <td>148.000</td>\n",
       "      <td>191.000</td>\n",
       "      <td>179.000</td>\n",
       "      <td>16.000</td>\n",
       "      <td>840.000</td>\n",
       "      <td>743.000</td>\n",
       "      <td>1.000</td>\n",
       "      <td>20.000</td>\n",
       "      <td>41.810</td>\n",
       "    </tr>\n",
       "    <tr>\n",
       "      <th>3</th>\n",
       "      <td>162.000</td>\n",
       "      <td>148.000</td>\n",
       "      <td>190.000</td>\n",
       "      <td>179.000</td>\n",
       "      <td>19.000</td>\n",
       "      <td>838.000</td>\n",
       "      <td>741.000</td>\n",
       "      <td>3.000</td>\n",
       "      <td>21.500</td>\n",
       "      <td>42.080</td>\n",
       "    </tr>\n",
       "    <tr>\n",
       "      <th>4</th>\n",
       "      <td>154.000</td>\n",
       "      <td>112.000</td>\n",
       "      <td>144.000</td>\n",
       "      <td>220.000</td>\n",
       "      <td>10.000</td>\n",
       "      <td>923.000</td>\n",
       "      <td>658.000</td>\n",
       "      <td>20.000</td>\n",
       "      <td>64.000</td>\n",
       "      <td>26.820</td>\n",
       "    </tr>\n",
       "    <tr>\n",
       "      <th>...</th>\n",
       "      <td>...</td>\n",
       "      <td>...</td>\n",
       "      <td>...</td>\n",
       "      <td>...</td>\n",
       "      <td>...</td>\n",
       "      <td>...</td>\n",
       "      <td>...</td>\n",
       "      <td>...</td>\n",
       "      <td>...</td>\n",
       "      <td>...</td>\n",
       "    </tr>\n",
       "    <tr>\n",
       "      <th>98</th>\n",
       "      <td>248.300</td>\n",
       "      <td>101.000</td>\n",
       "      <td>239.100</td>\n",
       "      <td>168.900</td>\n",
       "      <td>7.700</td>\n",
       "      <td>954.200</td>\n",
       "      <td>640.600</td>\n",
       "      <td>0.000</td>\n",
       "      <td>20.000</td>\n",
       "      <td>49.970</td>\n",
       "    </tr>\n",
       "    <tr>\n",
       "      <th>99</th>\n",
       "      <td>248.000</td>\n",
       "      <td>101.000</td>\n",
       "      <td>239.900</td>\n",
       "      <td>169.100</td>\n",
       "      <td>7.700</td>\n",
       "      <td>949.900</td>\n",
       "      <td>644.100</td>\n",
       "      <td>2.000</td>\n",
       "      <td>20.000</td>\n",
       "      <td>50.230</td>\n",
       "    </tr>\n",
       "    <tr>\n",
       "      <th>100</th>\n",
       "      <td>258.800</td>\n",
       "      <td>88.000</td>\n",
       "      <td>239.600</td>\n",
       "      <td>175.300</td>\n",
       "      <td>7.600</td>\n",
       "      <td>938.900</td>\n",
       "      <td>646.000</td>\n",
       "      <td>0.000</td>\n",
       "      <td>20.000</td>\n",
       "      <td>50.500</td>\n",
       "    </tr>\n",
       "    <tr>\n",
       "      <th>101</th>\n",
       "      <td>297.100</td>\n",
       "      <td>40.900</td>\n",
       "      <td>239.900</td>\n",
       "      <td>194.000</td>\n",
       "      <td>7.500</td>\n",
       "      <td>908.900</td>\n",
       "      <td>651.800</td>\n",
       "      <td>27.500</td>\n",
       "      <td>67.000</td>\n",
       "      <td>49.170</td>\n",
       "    </tr>\n",
       "    <tr>\n",
       "      <th>102</th>\n",
       "      <td>348.700</td>\n",
       "      <td>0.100</td>\n",
       "      <td>223.100</td>\n",
       "      <td>208.500</td>\n",
       "      <td>9.600</td>\n",
       "      <td>786.200</td>\n",
       "      <td>758.100</td>\n",
       "      <td>29.000</td>\n",
       "      <td>78.000</td>\n",
       "      <td>48.700</td>\n",
       "    </tr>\n",
       "  </tbody>\n",
       "</table>\n",
       "<p>103 rows × 10 columns</p>\n",
       "</div>"
      ],
      "text/plain": [
       "     Cement    Slag  Fly ash   Water     SP  Coarse Aggr.  Fine Aggr.  \\\n",
       "0   273.000  82.000  105.000 210.000  9.000       904.000     680.000   \n",
       "1   163.000 149.000  191.000 180.000 12.000       843.000     746.000   \n",
       "2   162.000 148.000  191.000 179.000 16.000       840.000     743.000   \n",
       "3   162.000 148.000  190.000 179.000 19.000       838.000     741.000   \n",
       "4   154.000 112.000  144.000 220.000 10.000       923.000     658.000   \n",
       "..      ...     ...      ...     ...    ...           ...         ...   \n",
       "98  248.300 101.000  239.100 168.900  7.700       954.200     640.600   \n",
       "99  248.000 101.000  239.900 169.100  7.700       949.900     644.100   \n",
       "100 258.800  88.000  239.600 175.300  7.600       938.900     646.000   \n",
       "101 297.100  40.900  239.900 194.000  7.500       908.900     651.800   \n",
       "102 348.700   0.100  223.100 208.500  9.600       786.200     758.100   \n",
       "\n",
       "     SLUMP(cm)  FLOW(cm)  Compressive Strength (28-day)(Mpa)  \n",
       "0       23.000    62.000                              34.990  \n",
       "1        0.000    20.000                              41.140  \n",
       "2        1.000    20.000                              41.810  \n",
       "3        3.000    21.500                              42.080  \n",
       "4       20.000    64.000                              26.820  \n",
       "..         ...       ...                                 ...  \n",
       "98       0.000    20.000                              49.970  \n",
       "99       2.000    20.000                              50.230  \n",
       "100      0.000    20.000                              50.500  \n",
       "101     27.500    67.000                              49.170  \n",
       "102     29.000    78.000                              48.700  \n",
       "\n",
       "[103 rows x 10 columns]"
      ]
     },
     "execution_count": 2,
     "metadata": {},
     "output_type": "execute_result"
    }
   ],
   "source": [
    "dfreal = pd.read_csv(\"cement_slump.csv\")\n",
    "df= dfreal.copy()\n",
    "df"
   ]
  },
  {
   "cell_type": "markdown",
   "metadata": {
    "id": "1xsgyEZ5LkKb"
   },
   "source": [
    "# EDA and Graphical analysis"
   ]
  },
  {
   "cell_type": "code",
   "execution_count": 3,
   "metadata": {
    "id": "OOynhUc7Lv1F"
   },
   "outputs": [
    {
     "data": {
      "text/html": [
       "<div>\n",
       "<style scoped>\n",
       "    .dataframe tbody tr th:only-of-type {\n",
       "        vertical-align: middle;\n",
       "    }\n",
       "\n",
       "    .dataframe tbody tr th {\n",
       "        vertical-align: top;\n",
       "    }\n",
       "\n",
       "    .dataframe thead th {\n",
       "        text-align: right;\n",
       "    }\n",
       "</style>\n",
       "<table border=\"1\" class=\"dataframe\">\n",
       "  <thead>\n",
       "    <tr style=\"text-align: right;\">\n",
       "      <th></th>\n",
       "      <th>Cement</th>\n",
       "      <th>Slag</th>\n",
       "      <th>Fly ash</th>\n",
       "      <th>Water</th>\n",
       "      <th>SP</th>\n",
       "      <th>Coarse Aggr.</th>\n",
       "      <th>Fine Aggr.</th>\n",
       "      <th>SLUMP(cm)</th>\n",
       "      <th>FLOW(cm)</th>\n",
       "      <th>Compressive Strength (28-day)(Mpa)</th>\n",
       "    </tr>\n",
       "  </thead>\n",
       "  <tbody>\n",
       "    <tr>\n",
       "      <th>0</th>\n",
       "      <td>273.000</td>\n",
       "      <td>82.000</td>\n",
       "      <td>105.000</td>\n",
       "      <td>210.000</td>\n",
       "      <td>9.000</td>\n",
       "      <td>904.000</td>\n",
       "      <td>680.000</td>\n",
       "      <td>23.000</td>\n",
       "      <td>62.000</td>\n",
       "      <td>34.990</td>\n",
       "    </tr>\n",
       "    <tr>\n",
       "      <th>1</th>\n",
       "      <td>163.000</td>\n",
       "      <td>149.000</td>\n",
       "      <td>191.000</td>\n",
       "      <td>180.000</td>\n",
       "      <td>12.000</td>\n",
       "      <td>843.000</td>\n",
       "      <td>746.000</td>\n",
       "      <td>0.000</td>\n",
       "      <td>20.000</td>\n",
       "      <td>41.140</td>\n",
       "    </tr>\n",
       "    <tr>\n",
       "      <th>2</th>\n",
       "      <td>162.000</td>\n",
       "      <td>148.000</td>\n",
       "      <td>191.000</td>\n",
       "      <td>179.000</td>\n",
       "      <td>16.000</td>\n",
       "      <td>840.000</td>\n",
       "      <td>743.000</td>\n",
       "      <td>1.000</td>\n",
       "      <td>20.000</td>\n",
       "      <td>41.810</td>\n",
       "    </tr>\n",
       "    <tr>\n",
       "      <th>3</th>\n",
       "      <td>162.000</td>\n",
       "      <td>148.000</td>\n",
       "      <td>190.000</td>\n",
       "      <td>179.000</td>\n",
       "      <td>19.000</td>\n",
       "      <td>838.000</td>\n",
       "      <td>741.000</td>\n",
       "      <td>3.000</td>\n",
       "      <td>21.500</td>\n",
       "      <td>42.080</td>\n",
       "    </tr>\n",
       "    <tr>\n",
       "      <th>4</th>\n",
       "      <td>154.000</td>\n",
       "      <td>112.000</td>\n",
       "      <td>144.000</td>\n",
       "      <td>220.000</td>\n",
       "      <td>10.000</td>\n",
       "      <td>923.000</td>\n",
       "      <td>658.000</td>\n",
       "      <td>20.000</td>\n",
       "      <td>64.000</td>\n",
       "      <td>26.820</td>\n",
       "    </tr>\n",
       "  </tbody>\n",
       "</table>\n",
       "</div>"
      ],
      "text/plain": [
       "   Cement    Slag  Fly ash   Water     SP  Coarse Aggr.  Fine Aggr.  \\\n",
       "0 273.000  82.000  105.000 210.000  9.000       904.000     680.000   \n",
       "1 163.000 149.000  191.000 180.000 12.000       843.000     746.000   \n",
       "2 162.000 148.000  191.000 179.000 16.000       840.000     743.000   \n",
       "3 162.000 148.000  190.000 179.000 19.000       838.000     741.000   \n",
       "4 154.000 112.000  144.000 220.000 10.000       923.000     658.000   \n",
       "\n",
       "   SLUMP(cm)  FLOW(cm)  Compressive Strength (28-day)(Mpa)  \n",
       "0     23.000    62.000                              34.990  \n",
       "1      0.000    20.000                              41.140  \n",
       "2      1.000    20.000                              41.810  \n",
       "3      3.000    21.500                              42.080  \n",
       "4     20.000    64.000                              26.820  "
      ]
     },
     "execution_count": 3,
     "metadata": {},
     "output_type": "execute_result"
    }
   ],
   "source": [
    "df.head()"
   ]
  },
  {
   "cell_type": "code",
   "execution_count": 4,
   "metadata": {
    "scrolled": true
   },
   "outputs": [
    {
     "name": "stdout",
     "output_type": "stream",
     "text": [
      "<class 'pandas.core.frame.DataFrame'>\n",
      "RangeIndex: 103 entries, 0 to 102\n",
      "Data columns (total 10 columns):\n",
      " #   Column                              Non-Null Count  Dtype  \n",
      "---  ------                              --------------  -----  \n",
      " 0   Cement                              103 non-null    float64\n",
      " 1   Slag                                103 non-null    float64\n",
      " 2   Fly ash                             103 non-null    float64\n",
      " 3   Water                               103 non-null    float64\n",
      " 4   SP                                  103 non-null    float64\n",
      " 5   Coarse Aggr.                        103 non-null    float64\n",
      " 6   Fine Aggr.                          103 non-null    float64\n",
      " 7   SLUMP(cm)                           103 non-null    float64\n",
      " 8   FLOW(cm)                            103 non-null    float64\n",
      " 9   Compressive Strength (28-day)(Mpa)  103 non-null    float64\n",
      "dtypes: float64(10)\n",
      "memory usage: 8.2 KB\n"
     ]
    }
   ],
   "source": [
    "df.info()"
   ]
  },
  {
   "cell_type": "code",
   "execution_count": 5,
   "metadata": {},
   "outputs": [
    {
     "data": {
      "text/html": [
       "<div>\n",
       "<style scoped>\n",
       "    .dataframe tbody tr th:only-of-type {\n",
       "        vertical-align: middle;\n",
       "    }\n",
       "\n",
       "    .dataframe tbody tr th {\n",
       "        vertical-align: top;\n",
       "    }\n",
       "\n",
       "    .dataframe thead th {\n",
       "        text-align: right;\n",
       "    }\n",
       "</style>\n",
       "<table border=\"1\" class=\"dataframe\">\n",
       "  <thead>\n",
       "    <tr style=\"text-align: right;\">\n",
       "      <th></th>\n",
       "      <th>count</th>\n",
       "      <th>mean</th>\n",
       "      <th>std</th>\n",
       "      <th>min</th>\n",
       "      <th>25%</th>\n",
       "      <th>50%</th>\n",
       "      <th>75%</th>\n",
       "      <th>max</th>\n",
       "    </tr>\n",
       "  </thead>\n",
       "  <tbody>\n",
       "    <tr>\n",
       "      <th>Cement</th>\n",
       "      <td>103.000</td>\n",
       "      <td>229.894</td>\n",
       "      <td>78.877</td>\n",
       "      <td>137.000</td>\n",
       "      <td>152.000</td>\n",
       "      <td>248.000</td>\n",
       "      <td>303.900</td>\n",
       "      <td>374.000</td>\n",
       "    </tr>\n",
       "    <tr>\n",
       "      <th>Slag</th>\n",
       "      <td>103.000</td>\n",
       "      <td>77.974</td>\n",
       "      <td>60.461</td>\n",
       "      <td>0.000</td>\n",
       "      <td>0.050</td>\n",
       "      <td>100.000</td>\n",
       "      <td>125.000</td>\n",
       "      <td>193.000</td>\n",
       "    </tr>\n",
       "    <tr>\n",
       "      <th>Fly ash</th>\n",
       "      <td>103.000</td>\n",
       "      <td>149.015</td>\n",
       "      <td>85.418</td>\n",
       "      <td>0.000</td>\n",
       "      <td>115.500</td>\n",
       "      <td>164.000</td>\n",
       "      <td>235.950</td>\n",
       "      <td>260.000</td>\n",
       "    </tr>\n",
       "    <tr>\n",
       "      <th>Water</th>\n",
       "      <td>103.000</td>\n",
       "      <td>197.168</td>\n",
       "      <td>20.208</td>\n",
       "      <td>160.000</td>\n",
       "      <td>180.000</td>\n",
       "      <td>196.000</td>\n",
       "      <td>209.500</td>\n",
       "      <td>240.000</td>\n",
       "    </tr>\n",
       "    <tr>\n",
       "      <th>SP</th>\n",
       "      <td>103.000</td>\n",
       "      <td>8.540</td>\n",
       "      <td>2.808</td>\n",
       "      <td>4.400</td>\n",
       "      <td>6.000</td>\n",
       "      <td>8.000</td>\n",
       "      <td>10.000</td>\n",
       "      <td>19.000</td>\n",
       "    </tr>\n",
       "    <tr>\n",
       "      <th>Coarse Aggr.</th>\n",
       "      <td>103.000</td>\n",
       "      <td>883.979</td>\n",
       "      <td>88.391</td>\n",
       "      <td>708.000</td>\n",
       "      <td>819.500</td>\n",
       "      <td>879.000</td>\n",
       "      <td>952.800</td>\n",
       "      <td>1049.900</td>\n",
       "    </tr>\n",
       "    <tr>\n",
       "      <th>Fine Aggr.</th>\n",
       "      <td>103.000</td>\n",
       "      <td>739.605</td>\n",
       "      <td>63.342</td>\n",
       "      <td>640.600</td>\n",
       "      <td>684.500</td>\n",
       "      <td>742.700</td>\n",
       "      <td>788.000</td>\n",
       "      <td>902.000</td>\n",
       "    </tr>\n",
       "    <tr>\n",
       "      <th>SLUMP(cm)</th>\n",
       "      <td>103.000</td>\n",
       "      <td>18.049</td>\n",
       "      <td>8.751</td>\n",
       "      <td>0.000</td>\n",
       "      <td>14.500</td>\n",
       "      <td>21.500</td>\n",
       "      <td>24.000</td>\n",
       "      <td>29.000</td>\n",
       "    </tr>\n",
       "    <tr>\n",
       "      <th>FLOW(cm)</th>\n",
       "      <td>103.000</td>\n",
       "      <td>49.611</td>\n",
       "      <td>17.569</td>\n",
       "      <td>20.000</td>\n",
       "      <td>38.500</td>\n",
       "      <td>54.000</td>\n",
       "      <td>63.750</td>\n",
       "      <td>78.000</td>\n",
       "    </tr>\n",
       "    <tr>\n",
       "      <th>Compressive Strength (28-day)(Mpa)</th>\n",
       "      <td>103.000</td>\n",
       "      <td>36.039</td>\n",
       "      <td>7.837</td>\n",
       "      <td>17.190</td>\n",
       "      <td>30.900</td>\n",
       "      <td>35.520</td>\n",
       "      <td>41.205</td>\n",
       "      <td>58.530</td>\n",
       "    </tr>\n",
       "  </tbody>\n",
       "</table>\n",
       "</div>"
      ],
      "text/plain": [
       "                                     count    mean    std     min     25%  \\\n",
       "Cement                             103.000 229.894 78.877 137.000 152.000   \n",
       "Slag                               103.000  77.974 60.461   0.000   0.050   \n",
       "Fly ash                            103.000 149.015 85.418   0.000 115.500   \n",
       "Water                              103.000 197.168 20.208 160.000 180.000   \n",
       "SP                                 103.000   8.540  2.808   4.400   6.000   \n",
       "Coarse Aggr.                       103.000 883.979 88.391 708.000 819.500   \n",
       "Fine Aggr.                         103.000 739.605 63.342 640.600 684.500   \n",
       "SLUMP(cm)                          103.000  18.049  8.751   0.000  14.500   \n",
       "FLOW(cm)                           103.000  49.611 17.569  20.000  38.500   \n",
       "Compressive Strength (28-day)(Mpa) 103.000  36.039  7.837  17.190  30.900   \n",
       "\n",
       "                                       50%     75%      max  \n",
       "Cement                             248.000 303.900  374.000  \n",
       "Slag                               100.000 125.000  193.000  \n",
       "Fly ash                            164.000 235.950  260.000  \n",
       "Water                              196.000 209.500  240.000  \n",
       "SP                                   8.000  10.000   19.000  \n",
       "Coarse Aggr.                       879.000 952.800 1049.900  \n",
       "Fine Aggr.                         742.700 788.000  902.000  \n",
       "SLUMP(cm)                           21.500  24.000   29.000  \n",
       "FLOW(cm)                            54.000  63.750   78.000  \n",
       "Compressive Strength (28-day)(Mpa)  35.520  41.205   58.530  "
      ]
     },
     "execution_count": 5,
     "metadata": {},
     "output_type": "execute_result"
    }
   ],
   "source": [
    "df.describe().T"
   ]
  },
  {
   "cell_type": "code",
   "execution_count": 6,
   "metadata": {},
   "outputs": [
    {
     "data": {
      "text/plain": [
       "(103, 10)"
      ]
     },
     "execution_count": 6,
     "metadata": {},
     "output_type": "execute_result"
    }
   ],
   "source": [
    "df.shape"
   ]
  },
  {
   "cell_type": "code",
   "execution_count": 7,
   "metadata": {
    "scrolled": true
   },
   "outputs": [
    {
     "data": {
      "text/plain": [
       "Cement                                0\n",
       "Slag                                  0\n",
       "Fly ash                               0\n",
       "Water                                 0\n",
       "SP                                    0\n",
       "Coarse Aggr.                          0\n",
       "Fine Aggr.                            0\n",
       "SLUMP(cm)                             0\n",
       "FLOW(cm)                              0\n",
       "Compressive Strength (28-day)(Mpa)    0\n",
       "dtype: int64"
      ]
     },
     "execution_count": 7,
     "metadata": {},
     "output_type": "execute_result"
    }
   ],
   "source": [
    "df.isnull().sum()"
   ]
  },
  {
   "cell_type": "code",
   "execution_count": 8,
   "metadata": {
    "scrolled": false
   },
   "outputs": [
    {
     "data": {
      "text/plain": [
       "Cement                                0\n",
       "Slag                                  0\n",
       "Fly ash                               0\n",
       "Water                                 0\n",
       "SP                                    0\n",
       "Coarse Aggr.                          0\n",
       "Fine Aggr.                            0\n",
       "SLUMP(cm)                             0\n",
       "FLOW(cm)                              0\n",
       "Compressive Strength (28-day)(Mpa)    0\n",
       "dtype: int64"
      ]
     },
     "execution_count": 8,
     "metadata": {},
     "output_type": "execute_result"
    }
   ],
   "source": [
    "df.isin([\"?\",\"-\"]).sum()"
   ]
  },
  {
   "cell_type": "code",
   "execution_count": 9,
   "metadata": {},
   "outputs": [
    {
     "data": {
      "image/png": "[encoded data removed]",
      "text/plain": [
       "<Figure size 1440x864 with 4 Axes>"
      ]
     },
     "metadata": {
      "needs_background": "light"
     },
     "output_type": "display_data"
    }
   ],
   "source": [
    "plt.figure(figsize=(20, 12))\n",
    "\n",
    "plt.subplot(221)\n",
    "plt.hist(df.Cement, bins=50)\n",
    "\n",
    "plt.subplot(222)\n",
    "plt.hist(df[\"Fly ash\"],bins=50,color=\"red\")\n",
    "\n",
    "plt.subplot(223)\n",
    "plt.hist(df[\"SP\"],bins=50,color=\"green\")\n",
    "\n",
    "plt.subplot(224)\n",
    "plt.hist(df[\"Slag\"],bins=50,color=\"yellow\")\n",
    "\n",
    "plt.show()"
   ]
  },
  {
   "cell_type": "code",
   "execution_count": 10,
   "metadata": {},
   "outputs": [
    {
     "data": {
      "text/html": [
       "<div>\n",
       "<style scoped>\n",
       "    .dataframe tbody tr th:only-of-type {\n",
       "        vertical-align: middle;\n",
       "    }\n",
       "\n",
       "    .dataframe tbody tr th {\n",
       "        vertical-align: top;\n",
       "    }\n",
       "\n",
       "    .dataframe thead th {\n",
       "        text-align: right;\n",
       "    }\n",
       "</style>\n",
       "<table border=\"1\" class=\"dataframe\">\n",
       "  <thead>\n",
       "    <tr style=\"text-align: right;\">\n",
       "      <th></th>\n",
       "      <th>Cement</th>\n",
       "      <th>Slag</th>\n",
       "      <th>Fly ash</th>\n",
       "      <th>Water</th>\n",
       "      <th>SP</th>\n",
       "      <th>Coarse Aggr.</th>\n",
       "      <th>Fine Aggr.</th>\n",
       "      <th>SLUMP(cm)</th>\n",
       "      <th>FLOW(cm)</th>\n",
       "      <th>Compressive Strength (28-day)(Mpa)</th>\n",
       "    </tr>\n",
       "  </thead>\n",
       "  <tbody>\n",
       "    <tr>\n",
       "      <th>Cement</th>\n",
       "      <td>1.000</td>\n",
       "      <td>-0.244</td>\n",
       "      <td>-0.487</td>\n",
       "      <td>0.221</td>\n",
       "      <td>-0.106</td>\n",
       "      <td>-0.310</td>\n",
       "      <td>0.057</td>\n",
       "      <td>0.146</td>\n",
       "      <td>0.186</td>\n",
       "      <td>0.446</td>\n",
       "    </tr>\n",
       "    <tr>\n",
       "      <th>Slag</th>\n",
       "      <td>-0.244</td>\n",
       "      <td>1.000</td>\n",
       "      <td>-0.323</td>\n",
       "      <td>-0.027</td>\n",
       "      <td>0.307</td>\n",
       "      <td>-0.224</td>\n",
       "      <td>-0.184</td>\n",
       "      <td>-0.284</td>\n",
       "      <td>-0.327</td>\n",
       "      <td>-0.332</td>\n",
       "    </tr>\n",
       "    <tr>\n",
       "      <th>Fly ash</th>\n",
       "      <td>-0.487</td>\n",
       "      <td>-0.323</td>\n",
       "      <td>1.000</td>\n",
       "      <td>-0.241</td>\n",
       "      <td>-0.144</td>\n",
       "      <td>0.173</td>\n",
       "      <td>-0.283</td>\n",
       "      <td>-0.119</td>\n",
       "      <td>-0.055</td>\n",
       "      <td>0.444</td>\n",
       "    </tr>\n",
       "    <tr>\n",
       "      <th>Water</th>\n",
       "      <td>0.221</td>\n",
       "      <td>-0.027</td>\n",
       "      <td>-0.241</td>\n",
       "      <td>1.000</td>\n",
       "      <td>-0.155</td>\n",
       "      <td>-0.602</td>\n",
       "      <td>0.115</td>\n",
       "      <td>0.467</td>\n",
       "      <td>0.632</td>\n",
       "      <td>-0.254</td>\n",
       "    </tr>\n",
       "    <tr>\n",
       "      <th>SP</th>\n",
       "      <td>-0.106</td>\n",
       "      <td>0.307</td>\n",
       "      <td>-0.144</td>\n",
       "      <td>-0.155</td>\n",
       "      <td>1.000</td>\n",
       "      <td>-0.104</td>\n",
       "      <td>0.058</td>\n",
       "      <td>-0.213</td>\n",
       "      <td>-0.176</td>\n",
       "      <td>-0.038</td>\n",
       "    </tr>\n",
       "    <tr>\n",
       "      <th>Coarse Aggr.</th>\n",
       "      <td>-0.310</td>\n",
       "      <td>-0.224</td>\n",
       "      <td>0.173</td>\n",
       "      <td>-0.602</td>\n",
       "      <td>-0.104</td>\n",
       "      <td>1.000</td>\n",
       "      <td>-0.489</td>\n",
       "      <td>-0.188</td>\n",
       "      <td>-0.326</td>\n",
       "      <td>-0.161</td>\n",
       "    </tr>\n",
       "    <tr>\n",
       "      <th>Fine Aggr.</th>\n",
       "      <td>0.057</td>\n",
       "      <td>-0.184</td>\n",
       "      <td>-0.283</td>\n",
       "      <td>0.115</td>\n",
       "      <td>0.058</td>\n",
       "      <td>-0.489</td>\n",
       "      <td>1.000</td>\n",
       "      <td>0.202</td>\n",
       "      <td>0.190</td>\n",
       "      <td>-0.155</td>\n",
       "    </tr>\n",
       "    <tr>\n",
       "      <th>SLUMP(cm)</th>\n",
       "      <td>0.146</td>\n",
       "      <td>-0.284</td>\n",
       "      <td>-0.119</td>\n",
       "      <td>0.467</td>\n",
       "      <td>-0.213</td>\n",
       "      <td>-0.188</td>\n",
       "      <td>0.202</td>\n",
       "      <td>1.000</td>\n",
       "      <td>0.906</td>\n",
       "      <td>-0.223</td>\n",
       "    </tr>\n",
       "    <tr>\n",
       "      <th>FLOW(cm)</th>\n",
       "      <td>0.186</td>\n",
       "      <td>-0.327</td>\n",
       "      <td>-0.055</td>\n",
       "      <td>0.632</td>\n",
       "      <td>-0.176</td>\n",
       "      <td>-0.326</td>\n",
       "      <td>0.190</td>\n",
       "      <td>0.906</td>\n",
       "      <td>1.000</td>\n",
       "      <td>-0.124</td>\n",
       "    </tr>\n",
       "    <tr>\n",
       "      <th>Compressive Strength (28-day)(Mpa)</th>\n",
       "      <td>0.446</td>\n",
       "      <td>-0.332</td>\n",
       "      <td>0.444</td>\n",
       "      <td>-0.254</td>\n",
       "      <td>-0.038</td>\n",
       "      <td>-0.161</td>\n",
       "      <td>-0.155</td>\n",
       "      <td>-0.223</td>\n",
       "      <td>-0.124</td>\n",
       "      <td>1.000</td>\n",
       "    </tr>\n",
       "  </tbody>\n",
       "</table>\n",
       "</div>"
      ],
      "text/plain": [
       "                                    Cement   Slag  Fly ash  Water     SP  \\\n",
       "Cement                               1.000 -0.244   -0.487  0.221 -0.106   \n",
       "Slag                                -0.244  1.000   -0.323 -0.027  0.307   \n",
       "Fly ash                             -0.487 -0.323    1.000 -0.241 -0.144   \n",
       "Water                                0.221 -0.027   -0.241  1.000 -0.155   \n",
       "SP                                  -0.106  0.307   -0.144 -0.155  1.000   \n",
       "Coarse Aggr.                        -0.310 -0.224    0.173 -0.602 -0.104   \n",
       "Fine Aggr.                           0.057 -0.184   -0.283  0.115  0.058   \n",
       "SLUMP(cm)                            0.146 -0.284   -0.119  0.467 -0.213   \n",
       "FLOW(cm)                             0.186 -0.327   -0.055  0.632 -0.176   \n",
       "Compressive Strength (28-day)(Mpa)   0.446 -0.332    0.444 -0.254 -0.038   \n",
       "\n",
       "                                    Coarse Aggr.  Fine Aggr.  SLUMP(cm)  \\\n",
       "Cement                                    -0.310       0.057      0.146   \n",
       "Slag                                      -0.224      -0.184     -0.284   \n",
       "Fly ash                                    0.173      -0.283     -0.119   \n",
       "Water                                     -0.602       0.115      0.467   \n",
       "SP                                        -0.104       0.058     -0.213   \n",
       "Coarse Aggr.                               1.000      -0.489     -0.188   \n",
       "Fine Aggr.                                -0.489       1.000      0.202   \n",
       "SLUMP(cm)                                 -0.188       0.202      1.000   \n",
       "FLOW(cm)                                  -0.326       0.190      0.906   \n",
       "Compressive Strength (28-day)(Mpa)        -0.161      -0.155     -0.223   \n",
       "\n",
       "                                    FLOW(cm)  \\\n",
       "Cement                                 0.186   \n",
       "Slag                                  -0.327   \n",
       "Fly ash                               -0.055   \n",
       "Water                                  0.632   \n",
       "SP                                    -0.176   \n",
       "Coarse Aggr.                          -0.326   \n",
       "Fine Aggr.                             0.190   \n",
       "SLUMP(cm)                              0.906   \n",
       "FLOW(cm)                               1.000   \n",
       "Compressive Strength (28-day)(Mpa)    -0.124   \n",
       "\n",
       "                                    Compressive Strength (28-day)(Mpa)  \n",
       "Cement                                                           0.446  \n",
       "Slag                                                            -0.332  \n",
       "Fly ash                                                          0.444  \n",
       "Water                                                           -0.254  \n",
       "SP                                                              -0.038  \n",
       "Coarse Aggr.                                                    -0.161  \n",
       "Fine Aggr.                                                      -0.155  \n",
       "SLUMP(cm)                                                       -0.223  \n",
       "FLOW(cm)                                                        -0.124  \n",
       "Compressive Strength (28-day)(Mpa)                               1.000  "
      ]
     },
     "execution_count": 10,
     "metadata": {},
     "output_type": "execute_result"
    }
   ],
   "source": [
    "df.corr()"
   ]
  },
  {
   "cell_type": "code",
   "execution_count": 11,
   "metadata": {
    "scrolled": true
   },
   "outputs": [
    {
     "data": {
      "image/png": "[encoded data removed]",
      "text/plain": [
       "<Figure size 864x432 with 2 Axes>"
      ]
     },
     "metadata": {
      "needs_background": "light"
     },
     "output_type": "display_data"
    }
   ],
   "source": [
    "plt.figure(figsize=(12, 6))\n",
    "sns.heatmap(df.corr(),annot=True)\n",
    "plt.show();"
   ]
  },
  {
   "cell_type": "markdown",
   "metadata": {},
   "source": [
    "- flow ve slump columnları arasında güçlü korelasyon var, bu ML için overfitting'e sebep olabilir,\n",
    "bu sutunlar için ridge-lasso düşünülebilir.\n",
    "- target column en çok cement ve fly ash ile bağlantılı"
   ]
  },
  {
   "cell_type": "code",
   "execution_count": 12,
   "metadata": {},
   "outputs": [
    {
     "data": {
      "text/plain": [
       "<seaborn.axisgrid.PairGrid at 0x23789644520>"
      ]
     },
     "execution_count": 12,
     "metadata": {},
     "output_type": "execute_result"
    },
    {
     "data": {
      "image/png": "[encoded data removed]",
      "text/plain": [
       "<Figure size 720x720 with 20 Axes>"
      ]
     },
     "metadata": {
      "needs_background": "light"
     },
     "output_type": "display_data"
    }
   ],
   "source": [
    "df_graff = df[[\"Cement\",\"Fly ash\",\"SP\",\"FLOW(cm)\"]]\n",
    "sns.pairplot(df_graff)"
   ]
  },
  {
   "cell_type": "code",
   "execution_count": 13,
   "metadata": {
    "scrolled": true
   },
   "outputs": [
    {
     "data": {
      "text/plain": [
       "34.990    2\n",
       "41.140    2\n",
       "41.270    2\n",
       "35.520    2\n",
       "44.080    2\n",
       "         ..\n",
       "58.530    1\n",
       "45.690    1\n",
       "32.040    1\n",
       "36.460    1\n",
       "48.700    1\n",
       "Name: Compressive Strength (28-day)(Mpa), Length: 83, dtype: int64"
      ]
     },
     "execution_count": 13,
     "metadata": {},
     "output_type": "execute_result"
    }
   ],
   "source": [
    "df[\"Compressive Strength (28-day)(Mpa)\"].value_counts(dropna=False)"
   ]
  },
  {
   "cell_type": "code",
   "execution_count": 14,
   "metadata": {
    "scrolled": false
   },
   "outputs": [
    {
     "data": {
      "text/plain": [
       "<AxesSubplot:xlabel='Compressive Strength (28-day)(Mpa)', ylabel='Density'>"
      ]
     },
     "execution_count": 14,
     "metadata": {},
     "output_type": "execute_result"
    },
    {
     "data": {
      "image/png": "[encoded data removed]",
      "text/plain": [
       "<Figure size 720x432 with 1 Axes>"
      ]
     },
     "metadata": {
      "needs_background": "light"
     },
     "output_type": "display_data"
    }
   ],
   "source": [
    "sns.distplot(df[\"Compressive Strength (28-day)(Mpa)\"])"
   ]
  },
  {
   "cell_type": "markdown",
   "metadata": {},
   "source": [
    "- Traget column normal distribution'a yakın , ileride scaling için lazım bir bilgi"
   ]
  },
  {
   "cell_type": "markdown",
   "metadata": {
    "id": "6mGpnc0Op9ib"
   },
   "source": [
    "# Data Preprocessing "
   ]
  },
  {
   "cell_type": "markdown",
   "metadata": {
    "id": "lQry6QMmLkKd"
   },
   "source": [
    "### Features and target variable"
   ]
  },
  {
   "cell_type": "code",
   "execution_count": 15,
   "metadata": {
    "id": "Q8WR47fMLzH1"
   },
   "outputs": [],
   "source": [
    "X = df.drop(columns=\"Compressive Strength (28-day)(Mpa)\")\n",
    "y= df[\"Compressive Strength (28-day)(Mpa)\"]"
   ]
  },
  {
   "cell_type": "code",
   "execution_count": 16,
   "metadata": {},
   "outputs": [
    {
     "data": {
      "text/html": [
       "<div>\n",
       "<style scoped>\n",
       "    .dataframe tbody tr th:only-of-type {\n",
       "        vertical-align: middle;\n",
       "    }\n",
       "\n",
       "    .dataframe tbody tr th {\n",
       "        vertical-align: top;\n",
       "    }\n",
       "\n",
       "    .dataframe thead th {\n",
       "        text-align: right;\n",
       "    }\n",
       "</style>\n",
       "<table border=\"1\" class=\"dataframe\">\n",
       "  <thead>\n",
       "    <tr style=\"text-align: right;\">\n",
       "      <th></th>\n",
       "      <th>Cement</th>\n",
       "      <th>Slag</th>\n",
       "      <th>Fly ash</th>\n",
       "      <th>Water</th>\n",
       "      <th>SP</th>\n",
       "      <th>Coarse Aggr.</th>\n",
       "      <th>Fine Aggr.</th>\n",
       "      <th>SLUMP(cm)</th>\n",
       "      <th>FLOW(cm)</th>\n",
       "    </tr>\n",
       "  </thead>\n",
       "  <tbody>\n",
       "    <tr>\n",
       "      <th>0</th>\n",
       "      <td>273.000</td>\n",
       "      <td>82.000</td>\n",
       "      <td>105.000</td>\n",
       "      <td>210.000</td>\n",
       "      <td>9.000</td>\n",
       "      <td>904.000</td>\n",
       "      <td>680.000</td>\n",
       "      <td>23.000</td>\n",
       "      <td>62.000</td>\n",
       "    </tr>\n",
       "    <tr>\n",
       "      <th>1</th>\n",
       "      <td>163.000</td>\n",
       "      <td>149.000</td>\n",
       "      <td>191.000</td>\n",
       "      <td>180.000</td>\n",
       "      <td>12.000</td>\n",
       "      <td>843.000</td>\n",
       "      <td>746.000</td>\n",
       "      <td>0.000</td>\n",
       "      <td>20.000</td>\n",
       "    </tr>\n",
       "    <tr>\n",
       "      <th>2</th>\n",
       "      <td>162.000</td>\n",
       "      <td>148.000</td>\n",
       "      <td>191.000</td>\n",
       "      <td>179.000</td>\n",
       "      <td>16.000</td>\n",
       "      <td>840.000</td>\n",
       "      <td>743.000</td>\n",
       "      <td>1.000</td>\n",
       "      <td>20.000</td>\n",
       "    </tr>\n",
       "    <tr>\n",
       "      <th>3</th>\n",
       "      <td>162.000</td>\n",
       "      <td>148.000</td>\n",
       "      <td>190.000</td>\n",
       "      <td>179.000</td>\n",
       "      <td>19.000</td>\n",
       "      <td>838.000</td>\n",
       "      <td>741.000</td>\n",
       "      <td>3.000</td>\n",
       "      <td>21.500</td>\n",
       "    </tr>\n",
       "    <tr>\n",
       "      <th>4</th>\n",
       "      <td>154.000</td>\n",
       "      <td>112.000</td>\n",
       "      <td>144.000</td>\n",
       "      <td>220.000</td>\n",
       "      <td>10.000</td>\n",
       "      <td>923.000</td>\n",
       "      <td>658.000</td>\n",
       "      <td>20.000</td>\n",
       "      <td>64.000</td>\n",
       "    </tr>\n",
       "    <tr>\n",
       "      <th>...</th>\n",
       "      <td>...</td>\n",
       "      <td>...</td>\n",
       "      <td>...</td>\n",
       "      <td>...</td>\n",
       "      <td>...</td>\n",
       "      <td>...</td>\n",
       "      <td>...</td>\n",
       "      <td>...</td>\n",
       "      <td>...</td>\n",
       "    </tr>\n",
       "    <tr>\n",
       "      <th>98</th>\n",
       "      <td>248.300</td>\n",
       "      <td>101.000</td>\n",
       "      <td>239.100</td>\n",
       "      <td>168.900</td>\n",
       "      <td>7.700</td>\n",
       "      <td>954.200</td>\n",
       "      <td>640.600</td>\n",
       "      <td>0.000</td>\n",
       "      <td>20.000</td>\n",
       "    </tr>\n",
       "    <tr>\n",
       "      <th>99</th>\n",
       "      <td>248.000</td>\n",
       "      <td>101.000</td>\n",
       "      <td>239.900</td>\n",
       "      <td>169.100</td>\n",
       "      <td>7.700</td>\n",
       "      <td>949.900</td>\n",
       "      <td>644.100</td>\n",
       "      <td>2.000</td>\n",
       "      <td>20.000</td>\n",
       "    </tr>\n",
       "    <tr>\n",
       "      <th>100</th>\n",
       "      <td>258.800</td>\n",
       "      <td>88.000</td>\n",
       "      <td>239.600</td>\n",
       "      <td>175.300</td>\n",
       "      <td>7.600</td>\n",
       "      <td>938.900</td>\n",
       "      <td>646.000</td>\n",
       "      <td>0.000</td>\n",
       "      <td>20.000</td>\n",
       "    </tr>\n",
       "    <tr>\n",
       "      <th>101</th>\n",
       "      <td>297.100</td>\n",
       "      <td>40.900</td>\n",
       "      <td>239.900</td>\n",
       "      <td>194.000</td>\n",
       "      <td>7.500</td>\n",
       "      <td>908.900</td>\n",
       "      <td>651.800</td>\n",
       "      <td>27.500</td>\n",
       "      <td>67.000</td>\n",
       "    </tr>\n",
       "    <tr>\n",
       "      <th>102</th>\n",
       "      <td>348.700</td>\n",
       "      <td>0.100</td>\n",
       "      <td>223.100</td>\n",
       "      <td>208.500</td>\n",
       "      <td>9.600</td>\n",
       "      <td>786.200</td>\n",
       "      <td>758.100</td>\n",
       "      <td>29.000</td>\n",
       "      <td>78.000</td>\n",
       "    </tr>\n",
       "  </tbody>\n",
       "</table>\n",
       "<p>103 rows × 9 columns</p>\n",
       "</div>"
      ],
      "text/plain": [
       "     Cement    Slag  Fly ash   Water     SP  Coarse Aggr.  Fine Aggr.  \\\n",
       "0   273.000  82.000  105.000 210.000  9.000       904.000     680.000   \n",
       "1   163.000 149.000  191.000 180.000 12.000       843.000     746.000   \n",
       "2   162.000 148.000  191.000 179.000 16.000       840.000     743.000   \n",
       "3   162.000 148.000  190.000 179.000 19.000       838.000     741.000   \n",
       "4   154.000 112.000  144.000 220.000 10.000       923.000     658.000   \n",
       "..      ...     ...      ...     ...    ...           ...         ...   \n",
       "98  248.300 101.000  239.100 168.900  7.700       954.200     640.600   \n",
       "99  248.000 101.000  239.900 169.100  7.700       949.900     644.100   \n",
       "100 258.800  88.000  239.600 175.300  7.600       938.900     646.000   \n",
       "101 297.100  40.900  239.900 194.000  7.500       908.900     651.800   \n",
       "102 348.700   0.100  223.100 208.500  9.600       786.200     758.100   \n",
       "\n",
       "     SLUMP(cm)  FLOW(cm)  \n",
       "0       23.000    62.000  \n",
       "1        0.000    20.000  \n",
       "2        1.000    20.000  \n",
       "3        3.000    21.500  \n",
       "4       20.000    64.000  \n",
       "..         ...       ...  \n",
       "98       0.000    20.000  \n",
       "99       2.000    20.000  \n",
       "100      0.000    20.000  \n",
       "101     27.500    67.000  \n",
       "102     29.000    78.000  \n",
       "\n",
       "[103 rows x 9 columns]"
      ]
     },
     "execution_count": 16,
     "metadata": {},
     "output_type": "execute_result"
    }
   ],
   "source": [
    "X"
   ]
  },
  {
   "cell_type": "code",
   "execution_count": 17,
   "metadata": {},
   "outputs": [
    {
     "data": {
      "text/plain": [
       "0     34.990\n",
       "1     41.140\n",
       "2     41.810\n",
       "3     42.080\n",
       "4     26.820\n",
       "       ...  \n",
       "98    49.970\n",
       "99    50.230\n",
       "100   50.500\n",
       "101   49.170\n",
       "102   48.700\n",
       "Name: Compressive Strength (28-day)(Mpa), Length: 103, dtype: float64"
      ]
     },
     "execution_count": 17,
     "metadata": {},
     "output_type": "execute_result"
    }
   ],
   "source": [
    "y"
   ]
  },
  {
   "cell_type": "markdown",
   "metadata": {
    "id": "2bgxIFqvLkKe"
   },
   "source": [
    "### Splitting data into training and testing"
   ]
  },
  {
   "cell_type": "code",
   "execution_count": 18,
   "metadata": {
    "id": "uUotDhZ_L0YN"
   },
   "outputs": [],
   "source": [
    "X_train, X_test,y_train,y_test = train_test_split(X,y,test_size=0.3,random_state=42)\n"
   ]
  },
  {
   "cell_type": "markdown",
   "metadata": {},
   "source": [
    "- datamızı test ve train olarak ayırdık"
   ]
  },
  {
   "cell_type": "code",
   "execution_count": 19,
   "metadata": {
    "scrolled": true
   },
   "outputs": [
    {
     "name": "stdout",
     "output_type": "stream",
     "text": [
      "Train features shape :  (72, 9)\n",
      "Train target shape :  (72,)\n",
      "Test features shape :  (31, 9)\n",
      "Test target shape :  (31,)\n"
     ]
    }
   ],
   "source": [
    "print(\"Train features shape : \", X_train.shape)\n",
    "print(\"Train target shape : \", y_train.shape)\n",
    "print(\"Test features shape : \", X_test.shape)\n",
    "print(\"Test target shape : \", y_test.shape)"
   ]
  },
  {
   "cell_type": "markdown",
   "metadata": {},
   "source": [
    "- ayrılan datamızın shape'ına baktık"
   ]
  },
  {
   "cell_type": "code",
   "execution_count": 20,
   "metadata": {
    "scrolled": true
   },
   "outputs": [
    {
     "data": {
      "text/html": [
       "<div>\n",
       "<style scoped>\n",
       "    .dataframe tbody tr th:only-of-type {\n",
       "        vertical-align: middle;\n",
       "    }\n",
       "\n",
       "    .dataframe tbody tr th {\n",
       "        vertical-align: top;\n",
       "    }\n",
       "\n",
       "    .dataframe thead th {\n",
       "        text-align: right;\n",
       "    }\n",
       "</style>\n",
       "<table border=\"1\" class=\"dataframe\">\n",
       "  <thead>\n",
       "    <tr style=\"text-align: right;\">\n",
       "      <th></th>\n",
       "      <th>Cement</th>\n",
       "      <th>Slag</th>\n",
       "      <th>Fly ash</th>\n",
       "      <th>Water</th>\n",
       "      <th>SP</th>\n",
       "      <th>Coarse Aggr.</th>\n",
       "      <th>Fine Aggr.</th>\n",
       "      <th>SLUMP(cm)</th>\n",
       "      <th>FLOW(cm)</th>\n",
       "    </tr>\n",
       "  </thead>\n",
       "  <tbody>\n",
       "    <tr>\n",
       "      <th>11</th>\n",
       "      <td>148.000</td>\n",
       "      <td>109.000</td>\n",
       "      <td>139.000</td>\n",
       "      <td>193.000</td>\n",
       "      <td>7.000</td>\n",
       "      <td>768.000</td>\n",
       "      <td>902.000</td>\n",
       "      <td>23.750</td>\n",
       "      <td>58.000</td>\n",
       "    </tr>\n",
       "    <tr>\n",
       "      <th>101</th>\n",
       "      <td>297.100</td>\n",
       "      <td>40.900</td>\n",
       "      <td>239.900</td>\n",
       "      <td>194.000</td>\n",
       "      <td>7.500</td>\n",
       "      <td>908.900</td>\n",
       "      <td>651.800</td>\n",
       "      <td>27.500</td>\n",
       "      <td>67.000</td>\n",
       "    </tr>\n",
       "    <tr>\n",
       "      <th>55</th>\n",
       "      <td>159.000</td>\n",
       "      <td>193.000</td>\n",
       "      <td>0.000</td>\n",
       "      <td>208.000</td>\n",
       "      <td>12.000</td>\n",
       "      <td>821.000</td>\n",
       "      <td>818.000</td>\n",
       "      <td>23.000</td>\n",
       "      <td>50.000</td>\n",
       "    </tr>\n",
       "    <tr>\n",
       "      <th>28</th>\n",
       "      <td>298.000</td>\n",
       "      <td>107.000</td>\n",
       "      <td>137.000</td>\n",
       "      <td>201.000</td>\n",
       "      <td>6.000</td>\n",
       "      <td>878.000</td>\n",
       "      <td>655.000</td>\n",
       "      <td>16.000</td>\n",
       "      <td>26.000</td>\n",
       "    </tr>\n",
       "    <tr>\n",
       "      <th>64</th>\n",
       "      <td>265.000</td>\n",
       "      <td>86.000</td>\n",
       "      <td>111.000</td>\n",
       "      <td>195.000</td>\n",
       "      <td>6.000</td>\n",
       "      <td>833.000</td>\n",
       "      <td>790.000</td>\n",
       "      <td>27.000</td>\n",
       "      <td>60.000</td>\n",
       "    </tr>\n",
       "    <tr>\n",
       "      <th>...</th>\n",
       "      <td>...</td>\n",
       "      <td>...</td>\n",
       "      <td>...</td>\n",
       "      <td>...</td>\n",
       "      <td>...</td>\n",
       "      <td>...</td>\n",
       "      <td>...</td>\n",
       "      <td>...</td>\n",
       "      <td>...</td>\n",
       "    </tr>\n",
       "    <tr>\n",
       "      <th>71</th>\n",
       "      <td>313.000</td>\n",
       "      <td>112.000</td>\n",
       "      <td>0.000</td>\n",
       "      <td>220.000</td>\n",
       "      <td>10.000</td>\n",
       "      <td>794.000</td>\n",
       "      <td>789.000</td>\n",
       "      <td>23.000</td>\n",
       "      <td>58.000</td>\n",
       "    </tr>\n",
       "    <tr>\n",
       "      <th>14</th>\n",
       "      <td>374.000</td>\n",
       "      <td>0.000</td>\n",
       "      <td>0.000</td>\n",
       "      <td>190.000</td>\n",
       "      <td>7.000</td>\n",
       "      <td>1013.000</td>\n",
       "      <td>730.000</td>\n",
       "      <td>14.500</td>\n",
       "      <td>42.500</td>\n",
       "    </tr>\n",
       "    <tr>\n",
       "      <th>92</th>\n",
       "      <td>303.800</td>\n",
       "      <td>0.200</td>\n",
       "      <td>239.800</td>\n",
       "      <td>236.400</td>\n",
       "      <td>8.300</td>\n",
       "      <td>780.100</td>\n",
       "      <td>715.300</td>\n",
       "      <td>25.000</td>\n",
       "      <td>78.000</td>\n",
       "    </tr>\n",
       "    <tr>\n",
       "      <th>51</th>\n",
       "      <td>342.000</td>\n",
       "      <td>136.000</td>\n",
       "      <td>0.000</td>\n",
       "      <td>225.000</td>\n",
       "      <td>11.000</td>\n",
       "      <td>770.000</td>\n",
       "      <td>747.000</td>\n",
       "      <td>21.000</td>\n",
       "      <td>61.000</td>\n",
       "    </tr>\n",
       "    <tr>\n",
       "      <th>102</th>\n",
       "      <td>348.700</td>\n",
       "      <td>0.100</td>\n",
       "      <td>223.100</td>\n",
       "      <td>208.500</td>\n",
       "      <td>9.600</td>\n",
       "      <td>786.200</td>\n",
       "      <td>758.100</td>\n",
       "      <td>29.000</td>\n",
       "      <td>78.000</td>\n",
       "    </tr>\n",
       "  </tbody>\n",
       "</table>\n",
       "<p>72 rows × 9 columns</p>\n",
       "</div>"
      ],
      "text/plain": [
       "     Cement    Slag  Fly ash   Water     SP  Coarse Aggr.  Fine Aggr.  \\\n",
       "11  148.000 109.000  139.000 193.000  7.000       768.000     902.000   \n",
       "101 297.100  40.900  239.900 194.000  7.500       908.900     651.800   \n",
       "55  159.000 193.000    0.000 208.000 12.000       821.000     818.000   \n",
       "28  298.000 107.000  137.000 201.000  6.000       878.000     655.000   \n",
       "64  265.000  86.000  111.000 195.000  6.000       833.000     790.000   \n",
       "..      ...     ...      ...     ...    ...           ...         ...   \n",
       "71  313.000 112.000    0.000 220.000 10.000       794.000     789.000   \n",
       "14  374.000   0.000    0.000 190.000  7.000      1013.000     730.000   \n",
       "92  303.800   0.200  239.800 236.400  8.300       780.100     715.300   \n",
       "51  342.000 136.000    0.000 225.000 11.000       770.000     747.000   \n",
       "102 348.700   0.100  223.100 208.500  9.600       786.200     758.100   \n",
       "\n",
       "     SLUMP(cm)  FLOW(cm)  \n",
       "11      23.750    58.000  \n",
       "101     27.500    67.000  \n",
       "55      23.000    50.000  \n",
       "28      16.000    26.000  \n",
       "64      27.000    60.000  \n",
       "..         ...       ...  \n",
       "71      23.000    58.000  \n",
       "14      14.500    42.500  \n",
       "92      25.000    78.000  \n",
       "51      21.000    61.000  \n",
       "102     29.000    78.000  \n",
       "\n",
       "[72 rows x 9 columns]"
      ]
     },
     "execution_count": 20,
     "metadata": {},
     "output_type": "execute_result"
    }
   ],
   "source": [
    "X_train"
   ]
  },
  {
   "cell_type": "markdown",
   "metadata": {},
   "source": [
    "- x_train datamızda label column olmadığından emin olmak için kontrol ettik"
   ]
  },
  {
   "cell_type": "code",
   "execution_count": 21,
   "metadata": {},
   "outputs": [],
   "source": [
    "model = LinearRegression() # basit modelimizi oluşturduk"
   ]
  },
  {
   "cell_type": "code",
   "execution_count": 22,
   "metadata": {},
   "outputs": [
    {
     "data": {
      "text/plain": [
       "LinearRegression()"
      ]
     },
     "execution_count": 22,
     "metadata": {},
     "output_type": "execute_result"
    }
   ],
   "source": [
    "model.fit(X_train,y_train) # modelimize train datalarını fit ettik"
   ]
  },
  {
   "cell_type": "code",
   "execution_count": 23,
   "metadata": {},
   "outputs": [],
   "source": [
    "y_pred_train = model.predict(X_train) # Feature'ları modele sokup değerlendirme için karşılaştıracağız\n",
    "y_pred_test = model.predict(X_test)"
   ]
  },
  {
   "cell_type": "code",
   "execution_count": 24,
   "metadata": {},
   "outputs": [],
   "source": [
    "my_dict = {\"Actual\": y_test, \"Pred\": y_pred_test, \"Residual\": y_test  - y_pred_test}\n",
    "# değerlendirme için şimdilik böyle bakalım ama asıl değerlendirme için scaling yapmamız gerekiyor"
   ]
  },
  {
   "cell_type": "code",
   "execution_count": 25,
   "metadata": {},
   "outputs": [
    {
     "data": {
      "text/html": [
       "<div>\n",
       "<style scoped>\n",
       "    .dataframe tbody tr th:only-of-type {\n",
       "        vertical-align: middle;\n",
       "    }\n",
       "\n",
       "    .dataframe tbody tr th {\n",
       "        vertical-align: top;\n",
       "    }\n",
       "\n",
       "    .dataframe thead th {\n",
       "        text-align: right;\n",
       "    }\n",
       "</style>\n",
       "<table border=\"1\" class=\"dataframe\">\n",
       "  <thead>\n",
       "    <tr style=\"text-align: right;\">\n",
       "      <th></th>\n",
       "      <th>Actual</th>\n",
       "      <th>Pred</th>\n",
       "      <th>Residual</th>\n",
       "    </tr>\n",
       "  </thead>\n",
       "  <tbody>\n",
       "    <tr>\n",
       "      <th>30</th>\n",
       "      <td>45.820</td>\n",
       "      <td>44.943</td>\n",
       "      <td>0.877</td>\n",
       "    </tr>\n",
       "    <tr>\n",
       "      <th>67</th>\n",
       "      <td>40.340</td>\n",
       "      <td>41.169</td>\n",
       "      <td>-0.829</td>\n",
       "    </tr>\n",
       "    <tr>\n",
       "      <th>62</th>\n",
       "      <td>28.290</td>\n",
       "      <td>28.563</td>\n",
       "      <td>-0.273</td>\n",
       "    </tr>\n",
       "    <tr>\n",
       "      <th>47</th>\n",
       "      <td>43.010</td>\n",
       "      <td>39.211</td>\n",
       "      <td>3.799</td>\n",
       "    </tr>\n",
       "    <tr>\n",
       "      <th>42</th>\n",
       "      <td>33.510</td>\n",
       "      <td>35.282</td>\n",
       "      <td>-1.772</td>\n",
       "    </tr>\n",
       "    <tr>\n",
       "      <th>40</th>\n",
       "      <td>35.660</td>\n",
       "      <td>39.457</td>\n",
       "      <td>-3.797</td>\n",
       "    </tr>\n",
       "    <tr>\n",
       "      <th>90</th>\n",
       "      <td>35.520</td>\n",
       "      <td>37.252</td>\n",
       "      <td>-1.732</td>\n",
       "    </tr>\n",
       "    <tr>\n",
       "      <th>45</th>\n",
       "      <td>31.770</td>\n",
       "      <td>31.227</td>\n",
       "      <td>0.543</td>\n",
       "    </tr>\n",
       "    <tr>\n",
       "      <th>10</th>\n",
       "      <td>26.020</td>\n",
       "      <td>28.770</td>\n",
       "      <td>-2.750</td>\n",
       "    </tr>\n",
       "    <tr>\n",
       "      <th>0</th>\n",
       "      <td>34.990</td>\n",
       "      <td>34.480</td>\n",
       "      <td>0.510</td>\n",
       "    </tr>\n",
       "    <tr>\n",
       "      <th>18</th>\n",
       "      <td>49.300</td>\n",
       "      <td>44.526</td>\n",
       "      <td>4.774</td>\n",
       "    </tr>\n",
       "    <tr>\n",
       "      <th>31</th>\n",
       "      <td>43.950</td>\n",
       "      <td>47.056</td>\n",
       "      <td>-3.106</td>\n",
       "    </tr>\n",
       "    <tr>\n",
       "      <th>97</th>\n",
       "      <td>44.080</td>\n",
       "      <td>44.739</td>\n",
       "      <td>-0.659</td>\n",
       "    </tr>\n",
       "    <tr>\n",
       "      <th>85</th>\n",
       "      <td>30.970</td>\n",
       "      <td>32.589</td>\n",
       "      <td>-1.619</td>\n",
       "    </tr>\n",
       "    <tr>\n",
       "      <th>76</th>\n",
       "      <td>32.570</td>\n",
       "      <td>34.159</td>\n",
       "      <td>-1.589</td>\n",
       "    </tr>\n",
       "    <tr>\n",
       "      <th>4</th>\n",
       "      <td>26.820</td>\n",
       "      <td>27.204</td>\n",
       "      <td>-0.384</td>\n",
       "    </tr>\n",
       "    <tr>\n",
       "      <th>79</th>\n",
       "      <td>30.430</td>\n",
       "      <td>28.587</td>\n",
       "      <td>1.843</td>\n",
       "    </tr>\n",
       "    <tr>\n",
       "      <th>33</th>\n",
       "      <td>35.520</td>\n",
       "      <td>38.665</td>\n",
       "      <td>-3.145</td>\n",
       "    </tr>\n",
       "    <tr>\n",
       "      <th>12</th>\n",
       "      <td>31.370</td>\n",
       "      <td>30.640</td>\n",
       "      <td>0.730</td>\n",
       "    </tr>\n",
       "    <tr>\n",
       "      <th>26</th>\n",
       "      <td>42.080</td>\n",
       "      <td>42.442</td>\n",
       "      <td>-0.362</td>\n",
       "    </tr>\n",
       "    <tr>\n",
       "      <th>100</th>\n",
       "      <td>50.500</td>\n",
       "      <td>49.256</td>\n",
       "      <td>1.244</td>\n",
       "    </tr>\n",
       "    <tr>\n",
       "      <th>53</th>\n",
       "      <td>38.590</td>\n",
       "      <td>38.485</td>\n",
       "      <td>0.105</td>\n",
       "    </tr>\n",
       "    <tr>\n",
       "      <th>22</th>\n",
       "      <td>18.520</td>\n",
       "      <td>21.292</td>\n",
       "      <td>-2.772</td>\n",
       "    </tr>\n",
       "    <tr>\n",
       "      <th>68</th>\n",
       "      <td>46.360</td>\n",
       "      <td>49.174</td>\n",
       "      <td>-2.814</td>\n",
       "    </tr>\n",
       "    <tr>\n",
       "      <th>44</th>\n",
       "      <td>30.970</td>\n",
       "      <td>33.700</td>\n",
       "      <td>-2.730</td>\n",
       "    </tr>\n",
       "    <tr>\n",
       "      <th>98</th>\n",
       "      <td>49.970</td>\n",
       "      <td>48.961</td>\n",
       "      <td>1.009</td>\n",
       "    </tr>\n",
       "    <tr>\n",
       "      <th>15</th>\n",
       "      <td>34.050</td>\n",
       "      <td>31.638</td>\n",
       "      <td>2.412</td>\n",
       "    </tr>\n",
       "    <tr>\n",
       "      <th>73</th>\n",
       "      <td>41.270</td>\n",
       "      <td>40.550</td>\n",
       "      <td>0.720</td>\n",
       "    </tr>\n",
       "    <tr>\n",
       "      <th>39</th>\n",
       "      <td>33.780</td>\n",
       "      <td>36.432</td>\n",
       "      <td>-2.652</td>\n",
       "    </tr>\n",
       "    <tr>\n",
       "      <th>9</th>\n",
       "      <td>38.460</td>\n",
       "      <td>38.776</td>\n",
       "      <td>-0.316</td>\n",
       "    </tr>\n",
       "    <tr>\n",
       "      <th>84</th>\n",
       "      <td>33.780</td>\n",
       "      <td>32.455</td>\n",
       "      <td>1.325</td>\n",
       "    </tr>\n",
       "  </tbody>\n",
       "</table>\n",
       "</div>"
      ],
      "text/plain": [
       "     Actual   Pred  Residual\n",
       "30   45.820 44.943     0.877\n",
       "67   40.340 41.169    -0.829\n",
       "62   28.290 28.563    -0.273\n",
       "47   43.010 39.211     3.799\n",
       "42   33.510 35.282    -1.772\n",
       "40   35.660 39.457    -3.797\n",
       "90   35.520 37.252    -1.732\n",
       "45   31.770 31.227     0.543\n",
       "10   26.020 28.770    -2.750\n",
       "0    34.990 34.480     0.510\n",
       "18   49.300 44.526     4.774\n",
       "31   43.950 47.056    -3.106\n",
       "97   44.080 44.739    -0.659\n",
       "85   30.970 32.589    -1.619\n",
       "76   32.570 34.159    -1.589\n",
       "4    26.820 27.204    -0.384\n",
       "79   30.430 28.587     1.843\n",
       "33   35.520 38.665    -3.145\n",
       "12   31.370 30.640     0.730\n",
       "26   42.080 42.442    -0.362\n",
       "100  50.500 49.256     1.244\n",
       "53   38.590 38.485     0.105\n",
       "22   18.520 21.292    -2.772\n",
       "68   46.360 49.174    -2.814\n",
       "44   30.970 33.700    -2.730\n",
       "98   49.970 48.961     1.009\n",
       "15   34.050 31.638     2.412\n",
       "73   41.270 40.550     0.720\n",
       "39   33.780 36.432    -2.652\n",
       "9    38.460 38.776    -0.316\n",
       "84   33.780 32.455     1.325"
      ]
     },
     "execution_count": 25,
     "metadata": {},
     "output_type": "execute_result"
    }
   ],
   "source": [
    "comparing = pd.DataFrame(my_dict)\n",
    "comparing"
   ]
  },
  {
   "cell_type": "code",
   "execution_count": 26,
   "metadata": {},
   "outputs": [
    {
     "name": "stdout",
     "output_type": "stream",
     "text": [
      "r2_score_train : 0.9001468622637668\n",
      "mae_train: 1.9919336865776545\n",
      "mse_train : 6.237116156459252\n",
      "rmse_train : 2.497421901973964\n"
     ]
    }
   ],
   "source": [
    "mae_train = mean_absolute_error(y_train,y_pred_train) # modelimizin error metricleri ile değerlendirelim\n",
    "mse_train = mean_squared_error(y_train,y_pred_train)\n",
    "rmse_train = np.sqrt(mse_train)\n",
    "r2_score_train = r2_score(y_train,y_pred_train)\n",
    "print(f\"r2_score_train : {r2_score_train}\")\n",
    "print(f\"mae_train: {mae_train}\")\n",
    "print(f\"mse_train : {mse_train}\")\n",
    "print(f\"rmse_train : {rmse_train}\")"
   ]
  },
  {
   "cell_type": "code",
   "execution_count": 27,
   "metadata": {
    "scrolled": true
   },
   "outputs": [
    {
     "name": "stdout",
     "output_type": "stream",
     "text": [
      "r2_score_test : 0.9212363726145724\n",
      "mae_test : 1.7157819342821743\n",
      "mse_test : 4.438896026004759\n",
      "rmse_test : 2.106868772848646\n"
     ]
    }
   ],
   "source": [
    "mae_test = mean_absolute_error(y_test,y_pred_test)\n",
    "mse_test = mean_squared_error(y_test,y_pred_test)\n",
    "rmse_test = np.sqrt(mse_test)\n",
    "r2_score_test = r2_score(y_test,y_pred_test)\n",
    "print(f\"r2_score_test : {r2_score_test}\")\n",
    "print(f\"mae_test : {mae_test}\")\n",
    "print(f\"mse_test : {mse_test}\")\n",
    "print(f\"rmse_test : {rmse_test}\")"
   ]
  },
  {
   "cell_type": "code",
   "execution_count": 28,
   "metadata": {},
   "outputs": [
    {
     "data": {
      "text/html": [
       "<div>\n",
       "<style scoped>\n",
       "    .dataframe tbody tr th:only-of-type {\n",
       "        vertical-align: middle;\n",
       "    }\n",
       "\n",
       "    .dataframe tbody tr th {\n",
       "        vertical-align: top;\n",
       "    }\n",
       "\n",
       "    .dataframe thead th {\n",
       "        text-align: right;\n",
       "    }\n",
       "</style>\n",
       "<table border=\"1\" class=\"dataframe\">\n",
       "  <thead>\n",
       "    <tr style=\"text-align: right;\">\n",
       "      <th></th>\n",
       "      <th>train</th>\n",
       "      <th>test</th>\n",
       "    </tr>\n",
       "  </thead>\n",
       "  <tbody>\n",
       "    <tr>\n",
       "      <th>mae</th>\n",
       "      <td>1.992</td>\n",
       "      <td>1.716</td>\n",
       "    </tr>\n",
       "    <tr>\n",
       "      <th>mse</th>\n",
       "      <td>6.237</td>\n",
       "      <td>4.439</td>\n",
       "    </tr>\n",
       "    <tr>\n",
       "      <th>rmse</th>\n",
       "      <td>2.497</td>\n",
       "      <td>2.107</td>\n",
       "    </tr>\n",
       "    <tr>\n",
       "      <th>r2_score</th>\n",
       "      <td>0.900</td>\n",
       "      <td>0.921</td>\n",
       "    </tr>\n",
       "  </tbody>\n",
       "</table>\n",
       "</div>"
      ],
      "text/plain": [
       "          train  test\n",
       "mae       1.992 1.716\n",
       "mse       6.237 4.439\n",
       "rmse      2.497 2.107\n",
       "r2_score  0.900 0.921"
      ]
     },
     "execution_count": 28,
     "metadata": {},
     "output_type": "execute_result"
    }
   ],
   "source": [
    "df_table1 = pd.DataFrame({'train': [mae_train,mse_train,rmse_train,r2_score_train],\n",
    "                   'test': [mae_test,mse_test,rmse_test,r2_score_test]}, \n",
    "                  index = [\"mae\",\"mse\",\"rmse\",\"r2_score\"])\n",
    "df_table1"
   ]
  },
  {
   "cell_type": "code",
   "execution_count": 29,
   "metadata": {},
   "outputs": [
    {
     "data": {
      "text/html": [
       "<div>\n",
       "<style scoped>\n",
       "    .dataframe tbody tr th:only-of-type {\n",
       "        vertical-align: middle;\n",
       "    }\n",
       "\n",
       "    .dataframe tbody tr th {\n",
       "        vertical-align: top;\n",
       "    }\n",
       "\n",
       "    .dataframe thead th {\n",
       "        text-align: right;\n",
       "    }\n",
       "</style>\n",
       "<table border=\"1\" class=\"dataframe\">\n",
       "  <thead>\n",
       "    <tr style=\"text-align: right;\">\n",
       "      <th></th>\n",
       "      <th>train</th>\n",
       "      <th>test</th>\n",
       "    </tr>\n",
       "  </thead>\n",
       "  <tbody>\n",
       "    <tr>\n",
       "      <th>train</th>\n",
       "      <td>1.000</td>\n",
       "      <td>0.999</td>\n",
       "    </tr>\n",
       "    <tr>\n",
       "      <th>test</th>\n",
       "      <td>0.999</td>\n",
       "      <td>1.000</td>\n",
       "    </tr>\n",
       "  </tbody>\n",
       "</table>\n",
       "</div>"
      ],
      "text/plain": [
       "       train  test\n",
       "train  1.000 0.999\n",
       "test   0.999 1.000"
      ]
     },
     "execution_count": 29,
     "metadata": {},
     "output_type": "execute_result"
    }
   ],
   "source": [
    "df_table1.corr()"
   ]
  },
  {
   "cell_type": "code",
   "execution_count": 30,
   "metadata": {},
   "outputs": [
    {
     "data": {
      "text/html": [
       "<div>\n",
       "<style scoped>\n",
       "    .dataframe tbody tr th:only-of-type {\n",
       "        vertical-align: middle;\n",
       "    }\n",
       "\n",
       "    .dataframe tbody tr th {\n",
       "        vertical-align: top;\n",
       "    }\n",
       "\n",
       "    .dataframe thead th {\n",
       "        text-align: right;\n",
       "    }\n",
       "</style>\n",
       "<table border=\"1\" class=\"dataframe\">\n",
       "  <thead>\n",
       "    <tr style=\"text-align: right;\">\n",
       "      <th></th>\n",
       "      <th>train</th>\n",
       "      <th>test</th>\n",
       "    </tr>\n",
       "  </thead>\n",
       "  <tbody>\n",
       "    <tr>\n",
       "      <th>mae</th>\n",
       "      <td>5.572</td>\n",
       "      <td>4.673</td>\n",
       "    </tr>\n",
       "    <tr>\n",
       "      <th>mse</th>\n",
       "      <td>17.448</td>\n",
       "      <td>12.089</td>\n",
       "    </tr>\n",
       "    <tr>\n",
       "      <th>rmse</th>\n",
       "      <td>6.987</td>\n",
       "      <td>5.738</td>\n",
       "    </tr>\n",
       "    <tr>\n",
       "      <th>r2_score</th>\n",
       "      <td>2.518</td>\n",
       "      <td>2.509</td>\n",
       "    </tr>\n",
       "  </tbody>\n",
       "</table>\n",
       "</div>"
      ],
      "text/plain": [
       "          train   test\n",
       "mae       5.572  4.673\n",
       "mse      17.448 12.089\n",
       "rmse      6.987  5.738\n",
       "r2_score  2.518  2.509"
      ]
     },
     "execution_count": 30,
     "metadata": {},
     "output_type": "execute_result"
    }
   ],
   "source": [
    "# bağıl hata olarak değerlendirme\n",
    "a1 = mae_train /y_train.mean()*100\n",
    "a2 =mse_train /y_train.mean()*100\n",
    "a3 = rmse_train /y_train.mean()*100\n",
    "a4 = r2_score_train /y_train.mean()*100\n",
    "\n",
    "b1 = mae_test /y_test.mean()*100\n",
    "b2 =mse_test /y_test.mean()*100\n",
    "b3 = rmse_test /y_test.mean()*100\n",
    "b4 = r2_score_test /y_test.mean()*100\n",
    "\n",
    "df_table2 = pd.DataFrame({'train': [a1,a2,a3,a4],\n",
    "                   'test': [b1,b2,b3,b4]}, \n",
    "                  index = [\"mae\",\"mse\",\"rmse\",\"r2_score\"])\n",
    "df_table2"
   ]
  },
  {
   "cell_type": "code",
   "execution_count": 31,
   "metadata": {},
   "outputs": [
    {
     "data": {
      "text/html": [
       "<div>\n",
       "<style scoped>\n",
       "    .dataframe tbody tr th:only-of-type {\n",
       "        vertical-align: middle;\n",
       "    }\n",
       "\n",
       "    .dataframe tbody tr th {\n",
       "        vertical-align: top;\n",
       "    }\n",
       "\n",
       "    .dataframe thead th {\n",
       "        text-align: right;\n",
       "    }\n",
       "</style>\n",
       "<table border=\"1\" class=\"dataframe\">\n",
       "  <thead>\n",
       "    <tr style=\"text-align: right;\">\n",
       "      <th></th>\n",
       "      <th>train</th>\n",
       "      <th>test</th>\n",
       "    </tr>\n",
       "  </thead>\n",
       "  <tbody>\n",
       "    <tr>\n",
       "      <th>train</th>\n",
       "      <td>1.000</td>\n",
       "      <td>0.999</td>\n",
       "    </tr>\n",
       "    <tr>\n",
       "      <th>test</th>\n",
       "      <td>0.999</td>\n",
       "      <td>1.000</td>\n",
       "    </tr>\n",
       "  </tbody>\n",
       "</table>\n",
       "</div>"
      ],
      "text/plain": [
       "       train  test\n",
       "train  1.000 0.999\n",
       "test   0.999 1.000"
      ]
     },
     "execution_count": 31,
     "metadata": {},
     "output_type": "execute_result"
    }
   ],
   "source": [
    "df_table2.corr()"
   ]
  },
  {
   "cell_type": "code",
   "execution_count": 32,
   "metadata": {},
   "outputs": [],
   "source": [
    "# sonuç olarak modelimizde iyi duruyor ama ileri değerlendirme yapmamız lazım\n",
    "# polınomiyal regression deneyelim"
   ]
  },
  {
   "cell_type": "code",
   "execution_count": 33,
   "metadata": {},
   "outputs": [],
   "source": [
    "def poly(d):\n",
    "    \n",
    "    train_rmse_errors = []\n",
    "    test_rmse_errors = []\n",
    "    number_of_features = []\n",
    "    degrees = []\n",
    "    \n",
    "    for i in range(1,d):\n",
    "        polynomial_converter = PolynomialFeatures(degree = i,include_bias = False)\n",
    "        poly_features = polynomial_converter.fit_transform(X)\n",
    "        \n",
    "        X_train,X_test,y_train,y_test=train_test_split(poly_features,y, test_size=0.3, random_state=101)\n",
    "        \n",
    "        model= LinearRegression(fit_intercept=True)\n",
    "        model.fit(X_train,y_train)\n",
    "        \n",
    "        train_pred = model.predict(X_train)\n",
    "        test_pred = model.predict(X_test)\n",
    "        \n",
    "        train_RMSE = np.sqrt(mean_squared_error(y_train,train_pred))\n",
    "        test_RMSE = np.sqrt(mean_squared_error(y_test,test_pred))\n",
    "        \n",
    "        train_rmse_errors.append(train_RMSE)\n",
    "        test_rmse_errors.append(test_RMSE)\n",
    "        \n",
    "        number_of_features.append(poly_features.shape[1])\n",
    "        degrees.append(i)\n",
    "        \n",
    "    return pd.DataFrame({\"train_rmse_errors\": train_rmse_errors, \"test_rmse_errors\": test_rmse_errors, \"number of features\": number_of_features, \"degree\":degrees}, index= range(1,d))"
   ]
  },
  {
   "cell_type": "code",
   "execution_count": 34,
   "metadata": {
    "scrolled": true
   },
   "outputs": [
    {
     "data": {
      "text/html": [
       "<div>\n",
       "<style scoped>\n",
       "    .dataframe tbody tr th:only-of-type {\n",
       "        vertical-align: middle;\n",
       "    }\n",
       "\n",
       "    .dataframe tbody tr th {\n",
       "        vertical-align: top;\n",
       "    }\n",
       "\n",
       "    .dataframe thead th {\n",
       "        text-align: right;\n",
       "    }\n",
       "</style>\n",
       "<table border=\"1\" class=\"dataframe\">\n",
       "  <thead>\n",
       "    <tr style=\"text-align: right;\">\n",
       "      <th></th>\n",
       "      <th>train_rmse_errors</th>\n",
       "      <th>test_rmse_errors</th>\n",
       "      <th>number of features</th>\n",
       "      <th>degree</th>\n",
       "    </tr>\n",
       "  </thead>\n",
       "  <tbody>\n",
       "    <tr>\n",
       "      <th>1</th>\n",
       "      <td>2.225</td>\n",
       "      <td>2.861</td>\n",
       "      <td>9</td>\n",
       "      <td>1</td>\n",
       "    </tr>\n",
       "    <tr>\n",
       "      <th>2</th>\n",
       "      <td>0.221</td>\n",
       "      <td>1.645</td>\n",
       "      <td>54</td>\n",
       "      <td>2</td>\n",
       "    </tr>\n",
       "    <tr>\n",
       "      <th>3</th>\n",
       "      <td>0.000</td>\n",
       "      <td>3.977</td>\n",
       "      <td>219</td>\n",
       "      <td>3</td>\n",
       "    </tr>\n",
       "    <tr>\n",
       "      <th>4</th>\n",
       "      <td>0.000</td>\n",
       "      <td>3.998</td>\n",
       "      <td>714</td>\n",
       "      <td>4</td>\n",
       "    </tr>\n",
       "    <tr>\n",
       "      <th>5</th>\n",
       "      <td>0.000</td>\n",
       "      <td>3.880</td>\n",
       "      <td>2001</td>\n",
       "      <td>5</td>\n",
       "    </tr>\n",
       "    <tr>\n",
       "      <th>6</th>\n",
       "      <td>0.000</td>\n",
       "      <td>3.563</td>\n",
       "      <td>5004</td>\n",
       "      <td>6</td>\n",
       "    </tr>\n",
       "    <tr>\n",
       "      <th>7</th>\n",
       "      <td>0.000</td>\n",
       "      <td>3.200</td>\n",
       "      <td>11439</td>\n",
       "      <td>7</td>\n",
       "    </tr>\n",
       "    <tr>\n",
       "      <th>8</th>\n",
       "      <td>0.000</td>\n",
       "      <td>2.825</td>\n",
       "      <td>24309</td>\n",
       "      <td>8</td>\n",
       "    </tr>\n",
       "    <tr>\n",
       "      <th>9</th>\n",
       "      <td>0.000</td>\n",
       "      <td>2.534</td>\n",
       "      <td>48619</td>\n",
       "      <td>9</td>\n",
       "    </tr>\n",
       "  </tbody>\n",
       "</table>\n",
       "</div>"
      ],
      "text/plain": [
       "   train_rmse_errors  test_rmse_errors  number of features  degree\n",
       "1              2.225             2.861                   9       1\n",
       "2              0.221             1.645                  54       2\n",
       "3              0.000             3.977                 219       3\n",
       "4              0.000             3.998                 714       4\n",
       "5              0.000             3.880                2001       5\n",
       "6              0.000             3.563                5004       6\n",
       "7              0.000             3.200               11439       7\n",
       "8              0.000             2.825               24309       8\n",
       "9              0.000             2.534               48619       9"
      ]
     },
     "execution_count": 34,
     "metadata": {},
     "output_type": "execute_result"
    }
   ],
   "source": [
    "poly(10)"
   ]
  },
  {
   "cell_type": "markdown",
   "metadata": {},
   "source": [
    "- polınomial regression sonuçlarını ön görmek yukarıdaki kodu kullandık (poly_degree = 1) ile (poly_degree = 2) arasında kaldım\n",
    "- poly_degree = 2 uygulayıp sonuçları görelim"
   ]
  },
  {
   "cell_type": "code",
   "execution_count": 35,
   "metadata": {},
   "outputs": [],
   "source": [
    "polynomial_converter = PolynomialFeatures(degree = 2, include_bias=False)"
   ]
  },
  {
   "cell_type": "code",
   "execution_count": 36,
   "metadata": {},
   "outputs": [
    {
     "data": {
      "text/plain": [
       "PolynomialFeatures(include_bias=False)"
      ]
     },
     "execution_count": 36,
     "metadata": {},
     "output_type": "execute_result"
    }
   ],
   "source": [
    "polynomial_converter.fit(X)"
   ]
  },
  {
   "cell_type": "code",
   "execution_count": 37,
   "metadata": {},
   "outputs": [],
   "source": [
    "poly_features = polynomial_converter.transform(X)"
   ]
  },
  {
   "cell_type": "code",
   "execution_count": 38,
   "metadata": {},
   "outputs": [],
   "source": [
    "X_train,X_test,y_train,y_test = train_test_split(poly_features,y, test_size=0.3,random_state=101)"
   ]
  },
  {
   "cell_type": "code",
   "execution_count": 39,
   "metadata": {},
   "outputs": [],
   "source": [
    "model_poly = LinearRegression()"
   ]
  },
  {
   "cell_type": "code",
   "execution_count": 40,
   "metadata": {},
   "outputs": [
    {
     "data": {
      "text/plain": [
       "LinearRegression()"
      ]
     },
     "execution_count": 40,
     "metadata": {},
     "output_type": "execute_result"
    }
   ],
   "source": [
    "model_poly.fit(X_train,y_train)"
   ]
  },
  {
   "cell_type": "code",
   "execution_count": 41,
   "metadata": {},
   "outputs": [],
   "source": [
    "y_pred = model_poly.predict(X_test)"
   ]
  },
  {
   "cell_type": "code",
   "execution_count": 42,
   "metadata": {},
   "outputs": [
    {
     "data": {
      "text/html": [
       "<div>\n",
       "<style scoped>\n",
       "    .dataframe tbody tr th:only-of-type {\n",
       "        vertical-align: middle;\n",
       "    }\n",
       "\n",
       "    .dataframe tbody tr th {\n",
       "        vertical-align: top;\n",
       "    }\n",
       "\n",
       "    .dataframe thead th {\n",
       "        text-align: right;\n",
       "    }\n",
       "</style>\n",
       "<table border=\"1\" class=\"dataframe\">\n",
       "  <thead>\n",
       "    <tr style=\"text-align: right;\">\n",
       "      <th></th>\n",
       "      <th>Actual</th>\n",
       "      <th>pred</th>\n",
       "      <th>residual</th>\n",
       "    </tr>\n",
       "  </thead>\n",
       "  <tbody>\n",
       "    <tr>\n",
       "      <th>37</th>\n",
       "      <td>18.260</td>\n",
       "      <td>19.476</td>\n",
       "      <td>-1.216</td>\n",
       "    </tr>\n",
       "    <tr>\n",
       "      <th>1</th>\n",
       "      <td>41.140</td>\n",
       "      <td>39.214</td>\n",
       "      <td>1.926</td>\n",
       "    </tr>\n",
       "    <tr>\n",
       "      <th>69</th>\n",
       "      <td>31.900</td>\n",
       "      <td>30.755</td>\n",
       "      <td>1.145</td>\n",
       "    </tr>\n",
       "    <tr>\n",
       "      <th>80</th>\n",
       "      <td>26.420</td>\n",
       "      <td>24.117</td>\n",
       "      <td>2.303</td>\n",
       "    </tr>\n",
       "    <tr>\n",
       "      <th>92</th>\n",
       "      <td>44.480</td>\n",
       "      <td>47.844</td>\n",
       "      <td>-3.364</td>\n",
       "    </tr>\n",
       "    <tr>\n",
       "      <th>61</th>\n",
       "      <td>39.930</td>\n",
       "      <td>39.365</td>\n",
       "      <td>0.565</td>\n",
       "    </tr>\n",
       "    <tr>\n",
       "      <th>85</th>\n",
       "      <td>30.970</td>\n",
       "      <td>30.912</td>\n",
       "      <td>0.058</td>\n",
       "    </tr>\n",
       "    <tr>\n",
       "      <th>53</th>\n",
       "      <td>38.590</td>\n",
       "      <td>38.638</td>\n",
       "      <td>-0.048</td>\n",
       "    </tr>\n",
       "    <tr>\n",
       "      <th>88</th>\n",
       "      <td>37.920</td>\n",
       "      <td>37.811</td>\n",
       "      <td>0.109</td>\n",
       "    </tr>\n",
       "    <tr>\n",
       "      <th>32</th>\n",
       "      <td>52.650</td>\n",
       "      <td>52.833</td>\n",
       "      <td>-0.183</td>\n",
       "    </tr>\n",
       "    <tr>\n",
       "      <th>6</th>\n",
       "      <td>38.860</td>\n",
       "      <td>36.866</td>\n",
       "      <td>1.994</td>\n",
       "    </tr>\n",
       "    <tr>\n",
       "      <th>71</th>\n",
       "      <td>28.160</td>\n",
       "      <td>27.570</td>\n",
       "      <td>0.590</td>\n",
       "    </tr>\n",
       "    <tr>\n",
       "      <th>43</th>\n",
       "      <td>27.620</td>\n",
       "      <td>26.291</td>\n",
       "      <td>1.329</td>\n",
       "    </tr>\n",
       "    <tr>\n",
       "      <th>16</th>\n",
       "      <td>28.290</td>\n",
       "      <td>29.978</td>\n",
       "      <td>-1.688</td>\n",
       "    </tr>\n",
       "    <tr>\n",
       "      <th>50</th>\n",
       "      <td>45.690</td>\n",
       "      <td>45.913</td>\n",
       "      <td>-0.223</td>\n",
       "    </tr>\n",
       "    <tr>\n",
       "      <th>31</th>\n",
       "      <td>43.950</td>\n",
       "      <td>44.417</td>\n",
       "      <td>-0.467</td>\n",
       "    </tr>\n",
       "    <tr>\n",
       "      <th>97</th>\n",
       "      <td>44.080</td>\n",
       "      <td>47.017</td>\n",
       "      <td>-2.937</td>\n",
       "    </tr>\n",
       "    <tr>\n",
       "      <th>14</th>\n",
       "      <td>32.440</td>\n",
       "      <td>30.131</td>\n",
       "      <td>2.309</td>\n",
       "    </tr>\n",
       "    <tr>\n",
       "      <th>25</th>\n",
       "      <td>33.380</td>\n",
       "      <td>33.094</td>\n",
       "      <td>0.286</td>\n",
       "    </tr>\n",
       "    <tr>\n",
       "      <th>51</th>\n",
       "      <td>32.040</td>\n",
       "      <td>32.878</td>\n",
       "      <td>-0.838</td>\n",
       "    </tr>\n",
       "  </tbody>\n",
       "</table>\n",
       "</div>"
      ],
      "text/plain": [
       "    Actual   pred  residual\n",
       "37  18.260 19.476    -1.216\n",
       "1   41.140 39.214     1.926\n",
       "69  31.900 30.755     1.145\n",
       "80  26.420 24.117     2.303\n",
       "92  44.480 47.844    -3.364\n",
       "61  39.930 39.365     0.565\n",
       "85  30.970 30.912     0.058\n",
       "53  38.590 38.638    -0.048\n",
       "88  37.920 37.811     0.109\n",
       "32  52.650 52.833    -0.183\n",
       "6   38.860 36.866     1.994\n",
       "71  28.160 27.570     0.590\n",
       "43  27.620 26.291     1.329\n",
       "16  28.290 29.978    -1.688\n",
       "50  45.690 45.913    -0.223\n",
       "31  43.950 44.417    -0.467\n",
       "97  44.080 47.017    -2.937\n",
       "14  32.440 30.131     2.309\n",
       "25  33.380 33.094     0.286\n",
       "51  32.040 32.878    -0.838"
      ]
     },
     "execution_count": 42,
     "metadata": {},
     "output_type": "execute_result"
    }
   ],
   "source": [
    "my_dict = {\"Actual\": y_test,\"pred\":y_pred, \"residual\":y_test-y_pred}\n",
    "compare = pd.DataFrame(my_dict)\n",
    "compare.head(20)"
   ]
  },
  {
   "cell_type": "code",
   "execution_count": 43,
   "metadata": {},
   "outputs": [],
   "source": [
    "def eval_metric(actual,pred):\n",
    "    mae= mean_absolute_error(actual,pred)\n",
    "    mse= mean_squared_error(actual,pred)\n",
    "    rmse= np.sqrt(mean_squared_error(actual,pred))\n",
    "    R2_score = r2_score(actual,pred)\n",
    "    print(\"model testing performance:\")\n",
    "    print(\"--------------------------\")\n",
    "    print(f\"R2_score \\t: {R2_score}\")\n",
    "    print(f\"MAE \\t\\t:{mae}\")\n",
    "    print(f\"MSE \\t\\t:{mse}\")\n",
    "    print(f\"RMSE \\t\\t:{rmse}\")"
   ]
  },
  {
   "cell_type": "code",
   "execution_count": 44,
   "metadata": {},
   "outputs": [
    {
     "name": "stdout",
     "output_type": "stream",
     "text": [
      "model testing performance:\n",
      "--------------------------\n",
      "R2_score \t: 0.9604730352872773\n",
      "MAE \t\t:1.2192935628145525\n",
      "MSE \t\t:2.706620318464362\n",
      "RMSE \t\t:1.645180937910588\n"
     ]
    }
   ],
   "source": [
    "eval_metric(y_test,y_pred)"
   ]
  },
  {
   "cell_type": "code",
   "execution_count": 45,
   "metadata": {},
   "outputs": [],
   "source": [
    "y_train_pred = model_poly.predict(X_train)"
   ]
  },
  {
   "cell_type": "code",
   "execution_count": 46,
   "metadata": {
    "scrolled": false
   },
   "outputs": [
    {
     "name": "stdout",
     "output_type": "stream",
     "text": [
      "model testing performance:\n",
      "--------------------------\n",
      "R2_score \t: 0.9991497267251591\n",
      "MAE \t\t:0.17046182786571673\n",
      "MSE \t\t:0.04888843167112003\n",
      "RMSE \t\t:0.2211072854320274\n"
     ]
    }
   ],
   "source": [
    "eval_metric(y_train,y_train_pred)"
   ]
  },
  {
   "cell_type": "markdown",
   "metadata": {},
   "source": [
    "- datamız için poly_degree = 2 daha uygun duruyor"
   ]
  },
  {
   "cell_type": "markdown",
   "metadata": {
    "id": "4YkV6BW2qAQf"
   },
   "source": [
    "## Scaling"
   ]
  },
  {
   "cell_type": "markdown",
   "metadata": {
    "id": "pe_hobuSLkKf"
   },
   "source": [
    "##  1. Model Building (Linear Regression)"
   ]
  },
  {
   "cell_type": "code",
   "execution_count": 47,
   "metadata": {
    "id": "MixfWgNNL35l"
   },
   "outputs": [],
   "source": [
    "scaler = StandardScaler()"
   ]
  },
  {
   "cell_type": "markdown",
   "metadata": {
    "id": "emzJ9dsTLkKg"
   },
   "source": [
    "### 1.1 Interpret the model"
   ]
  },
  {
   "cell_type": "code",
   "execution_count": 48,
   "metadata": {
    "id": "G81OxjyLMCJd"
   },
   "outputs": [
    {
     "data": {
      "text/plain": [
       "StandardScaler()"
      ]
     },
     "execution_count": 48,
     "metadata": {},
     "output_type": "execute_result"
    }
   ],
   "source": [
    "scaler.fit(X_train) "
   ]
  },
  {
   "cell_type": "code",
   "execution_count": 49,
   "metadata": {},
   "outputs": [],
   "source": [
    "X_train_scaled = scaler.transform(X_train)\n",
    "X_test_scaled = scaler.transform(X_test) "
   ]
  },
  {
   "cell_type": "code",
   "execution_count": 50,
   "metadata": {},
   "outputs": [
    {
     "data": {
      "text/html": [
       "<div>\n",
       "<style scoped>\n",
       "    .dataframe tbody tr th:only-of-type {\n",
       "        vertical-align: middle;\n",
       "    }\n",
       "\n",
       "    .dataframe tbody tr th {\n",
       "        vertical-align: top;\n",
       "    }\n",
       "\n",
       "    .dataframe thead th {\n",
       "        text-align: right;\n",
       "    }\n",
       "</style>\n",
       "<table border=\"1\" class=\"dataframe\">\n",
       "  <thead>\n",
       "    <tr style=\"text-align: right;\">\n",
       "      <th></th>\n",
       "      <th>0</th>\n",
       "      <th>1</th>\n",
       "      <th>2</th>\n",
       "      <th>3</th>\n",
       "      <th>4</th>\n",
       "      <th>5</th>\n",
       "      <th>6</th>\n",
       "      <th>7</th>\n",
       "      <th>8</th>\n",
       "      <th>9</th>\n",
       "      <th>...</th>\n",
       "      <th>44</th>\n",
       "      <th>45</th>\n",
       "      <th>46</th>\n",
       "      <th>47</th>\n",
       "      <th>48</th>\n",
       "      <th>49</th>\n",
       "      <th>50</th>\n",
       "      <th>51</th>\n",
       "      <th>52</th>\n",
       "      <th>53</th>\n",
       "    </tr>\n",
       "  </thead>\n",
       "  <tbody>\n",
       "    <tr>\n",
       "      <th>mean</th>\n",
       "      <td>0.000</td>\n",
       "      <td>-0.000</td>\n",
       "      <td>-0.000</td>\n",
       "      <td>0.000</td>\n",
       "      <td>-0.000</td>\n",
       "      <td>0.000</td>\n",
       "      <td>0.000</td>\n",
       "      <td>0.000</td>\n",
       "      <td>0.000</td>\n",
       "      <td>-0.000</td>\n",
       "      <td>...</td>\n",
       "      <td>-0.000</td>\n",
       "      <td>-0.000</td>\n",
       "      <td>0.000</td>\n",
       "      <td>0.000</td>\n",
       "      <td>0.000</td>\n",
       "      <td>-0.000</td>\n",
       "      <td>0.000</td>\n",
       "      <td>-0.000</td>\n",
       "      <td>-0.000</td>\n",
       "      <td>-0.000</td>\n",
       "    </tr>\n",
       "    <tr>\n",
       "      <th>std</th>\n",
       "      <td>1.000</td>\n",
       "      <td>1.000</td>\n",
       "      <td>1.000</td>\n",
       "      <td>1.000</td>\n",
       "      <td>1.000</td>\n",
       "      <td>1.000</td>\n",
       "      <td>1.000</td>\n",
       "      <td>1.000</td>\n",
       "      <td>1.000</td>\n",
       "      <td>1.000</td>\n",
       "      <td>...</td>\n",
       "      <td>1.000</td>\n",
       "      <td>1.000</td>\n",
       "      <td>1.000</td>\n",
       "      <td>1.000</td>\n",
       "      <td>1.000</td>\n",
       "      <td>1.000</td>\n",
       "      <td>1.000</td>\n",
       "      <td>1.000</td>\n",
       "      <td>1.000</td>\n",
       "      <td>1.000</td>\n",
       "    </tr>\n",
       "  </tbody>\n",
       "</table>\n",
       "<p>2 rows × 54 columns</p>\n",
       "</div>"
      ],
      "text/plain": [
       "        0      1      2     3      4     5     6     7     8      9   ...  \\\n",
       "mean 0.000 -0.000 -0.000 0.000 -0.000 0.000 0.000 0.000 0.000 -0.000  ...   \n",
       "std  1.000  1.000  1.000 1.000  1.000 1.000 1.000 1.000 1.000  1.000  ...   \n",
       "\n",
       "         44     45    46    47    48     49    50     51     52     53  \n",
       "mean -0.000 -0.000 0.000 0.000 0.000 -0.000 0.000 -0.000 -0.000 -0.000  \n",
       "std   1.000  1.000 1.000 1.000 1.000  1.000 1.000  1.000  1.000  1.000  \n",
       "\n",
       "[2 rows x 54 columns]"
      ]
     },
     "execution_count": 50,
     "metadata": {},
     "output_type": "execute_result"
    }
   ],
   "source": [
    "pd.DataFrame(X_train_scaled).agg([\"mean\",\"std\"]).round()"
   ]
  },
  {
   "cell_type": "code",
   "execution_count": 51,
   "metadata": {},
   "outputs": [
    {
     "data": {
      "text/html": [
       "<div>\n",
       "<style scoped>\n",
       "    .dataframe tbody tr th:only-of-type {\n",
       "        vertical-align: middle;\n",
       "    }\n",
       "\n",
       "    .dataframe tbody tr th {\n",
       "        vertical-align: top;\n",
       "    }\n",
       "\n",
       "    .dataframe thead th {\n",
       "        text-align: right;\n",
       "    }\n",
       "</style>\n",
       "<table border=\"1\" class=\"dataframe\">\n",
       "  <thead>\n",
       "    <tr style=\"text-align: right;\">\n",
       "      <th></th>\n",
       "      <th>0</th>\n",
       "      <th>1</th>\n",
       "      <th>2</th>\n",
       "      <th>3</th>\n",
       "      <th>4</th>\n",
       "      <th>5</th>\n",
       "      <th>6</th>\n",
       "      <th>7</th>\n",
       "      <th>8</th>\n",
       "      <th>9</th>\n",
       "      <th>...</th>\n",
       "      <th>44</th>\n",
       "      <th>45</th>\n",
       "      <th>46</th>\n",
       "      <th>47</th>\n",
       "      <th>48</th>\n",
       "      <th>49</th>\n",
       "      <th>50</th>\n",
       "      <th>51</th>\n",
       "      <th>52</th>\n",
       "      <th>53</th>\n",
       "    </tr>\n",
       "  </thead>\n",
       "  <tbody>\n",
       "    <tr>\n",
       "      <th>mean</th>\n",
       "      <td>0.000</td>\n",
       "      <td>-0.000</td>\n",
       "      <td>-0.000</td>\n",
       "      <td>0.000</td>\n",
       "      <td>0.000</td>\n",
       "      <td>0.000</td>\n",
       "      <td>-0.000</td>\n",
       "      <td>-0.000</td>\n",
       "      <td>-0.000</td>\n",
       "      <td>0.000</td>\n",
       "      <td>...</td>\n",
       "      <td>0.000</td>\n",
       "      <td>0.000</td>\n",
       "      <td>0.000</td>\n",
       "      <td>0.000</td>\n",
       "      <td>-0.000</td>\n",
       "      <td>-0.000</td>\n",
       "      <td>-0.000</td>\n",
       "      <td>-0.000</td>\n",
       "      <td>-0.000</td>\n",
       "      <td>-0.000</td>\n",
       "    </tr>\n",
       "    <tr>\n",
       "      <th>std</th>\n",
       "      <td>1.000</td>\n",
       "      <td>1.000</td>\n",
       "      <td>1.000</td>\n",
       "      <td>1.000</td>\n",
       "      <td>2.000</td>\n",
       "      <td>1.000</td>\n",
       "      <td>1.000</td>\n",
       "      <td>1.000</td>\n",
       "      <td>1.000</td>\n",
       "      <td>1.000</td>\n",
       "      <td>...</td>\n",
       "      <td>1.000</td>\n",
       "      <td>1.000</td>\n",
       "      <td>1.000</td>\n",
       "      <td>1.000</td>\n",
       "      <td>1.000</td>\n",
       "      <td>1.000</td>\n",
       "      <td>1.000</td>\n",
       "      <td>1.000</td>\n",
       "      <td>1.000</td>\n",
       "      <td>1.000</td>\n",
       "    </tr>\n",
       "  </tbody>\n",
       "</table>\n",
       "<p>2 rows × 54 columns</p>\n",
       "</div>"
      ],
      "text/plain": [
       "        0      1      2     3     4     5      6      7      8     9   ...  \\\n",
       "mean 0.000 -0.000 -0.000 0.000 0.000 0.000 -0.000 -0.000 -0.000 0.000  ...   \n",
       "std  1.000  1.000  1.000 1.000 2.000 1.000  1.000  1.000  1.000 1.000  ...   \n",
       "\n",
       "        44    45    46    47     48     49     50     51     52     53  \n",
       "mean 0.000 0.000 0.000 0.000 -0.000 -0.000 -0.000 -0.000 -0.000 -0.000  \n",
       "std  1.000 1.000 1.000 1.000  1.000  1.000  1.000  1.000  1.000  1.000  \n",
       "\n",
       "[2 rows x 54 columns]"
      ]
     },
     "execution_count": 51,
     "metadata": {},
     "output_type": "execute_result"
    }
   ],
   "source": [
    "pd.DataFrame(X_test_scaled).agg([\"mean\",\"std\"]).round()"
   ]
  },
  {
   "cell_type": "code",
   "execution_count": 52,
   "metadata": {},
   "outputs": [],
   "source": [
    "model2 = LinearRegression()"
   ]
  },
  {
   "cell_type": "code",
   "execution_count": 53,
   "metadata": {},
   "outputs": [
    {
     "data": {
      "text/plain": [
       "LinearRegression()"
      ]
     },
     "execution_count": 53,
     "metadata": {},
     "output_type": "execute_result"
    }
   ],
   "source": [
    "model2.fit(X_train_scaled,y_train)"
   ]
  },
  {
   "cell_type": "code",
   "execution_count": 54,
   "metadata": {},
   "outputs": [],
   "source": [
    "y_pred = model2.predict(X_test_scaled)\n",
    "y_train_pred = model2.predict(X_train_scaled)"
   ]
  },
  {
   "cell_type": "markdown",
   "metadata": {},
   "source": [
    "### 1.2 Model Evaluation"
   ]
  },
  {
   "cell_type": "code",
   "execution_count": 55,
   "metadata": {},
   "outputs": [],
   "source": [
    "def train_val(y_train,y_train_pred, y_test, y_pred,name):\n",
    "    scores = {name+\"_train\":{\"R2\" : r2_score(y_train,y_train_pred),\n",
    "                \"mae\":mean_absolute_error(y_train,y_train_pred),\n",
    "                \"mse\":mean_squared_error(y_train,y_train_pred),\n",
    "                \"rmse\": np.sqrt(mean_squared_error(y_train,y_train_pred))},\n",
    "            \n",
    "              name+\"_test\":{\"R2\" : r2_score(y_test,y_pred),\n",
    "                \"mae\":mean_absolute_error(y_test,y_pred),\n",
    "                \"mse\":mean_squared_error(y_test,y_pred),\n",
    "                \"rmse\": np.sqrt(mean_squared_error(y_test,y_pred))}}\n",
    "    \n",
    "    return pd.DataFrame(scores)"
   ]
  },
  {
   "cell_type": "code",
   "execution_count": 56,
   "metadata": {},
   "outputs": [
    {
     "data": {
      "text/html": [
       "<div>\n",
       "<style scoped>\n",
       "    .dataframe tbody tr th:only-of-type {\n",
       "        vertical-align: middle;\n",
       "    }\n",
       "\n",
       "    .dataframe tbody tr th {\n",
       "        vertical-align: top;\n",
       "    }\n",
       "\n",
       "    .dataframe thead th {\n",
       "        text-align: right;\n",
       "    }\n",
       "</style>\n",
       "<table border=\"1\" class=\"dataframe\">\n",
       "  <thead>\n",
       "    <tr style=\"text-align: right;\">\n",
       "      <th></th>\n",
       "      <th>linear_train</th>\n",
       "      <th>linear_test</th>\n",
       "    </tr>\n",
       "  </thead>\n",
       "  <tbody>\n",
       "    <tr>\n",
       "      <th>R2</th>\n",
       "      <td>0.999</td>\n",
       "      <td>0.960</td>\n",
       "    </tr>\n",
       "    <tr>\n",
       "      <th>mae</th>\n",
       "      <td>0.170</td>\n",
       "      <td>1.219</td>\n",
       "    </tr>\n",
       "    <tr>\n",
       "      <th>mse</th>\n",
       "      <td>0.049</td>\n",
       "      <td>2.707</td>\n",
       "    </tr>\n",
       "    <tr>\n",
       "      <th>rmse</th>\n",
       "      <td>0.221</td>\n",
       "      <td>1.645</td>\n",
       "    </tr>\n",
       "  </tbody>\n",
       "</table>\n",
       "</div>"
      ],
      "text/plain": [
       "      linear_train  linear_test\n",
       "R2           0.999        0.960\n",
       "mae          0.170        1.219\n",
       "mse          0.049        2.707\n",
       "rmse         0.221        1.645"
      ]
     },
     "execution_count": 56,
     "metadata": {},
     "output_type": "execute_result"
    }
   ],
   "source": [
    "model2=train_val(y_train,y_train_pred,y_test,y_pred,\"linear\")\n",
    "model2\n"
   ]
  },
  {
   "cell_type": "markdown",
   "metadata": {},
   "source": [
    "### multicolineraty"
   ]
  },
  {
   "cell_type": "code",
   "execution_count": 57,
   "metadata": {
    "id": "YRTnaI1wMHdl"
   },
   "outputs": [],
   "source": [
    "# yukarıda heatmap da olduğunu görmştük\n",
    "def color_red(val):\n",
    "    if val > 0.90 and val < 0.99:\n",
    "        color =\"red\"\n",
    "    else:\n",
    "        color=\"black\"\n",
    "    return f\"color:{color}\""
   ]
  },
  {
   "cell_type": "code",
   "execution_count": 58,
   "metadata": {},
   "outputs": [
    {
     "data": {
      "text/html": [
       "<style type=\"text/css\">\n",
       "#T_a4c4a_row0_col0, #T_a4c4a_row0_col1, #T_a4c4a_row0_col2, #T_a4c4a_row0_col3, #T_a4c4a_row0_col4, #T_a4c4a_row0_col5, #T_a4c4a_row0_col6, #T_a4c4a_row0_col7, #T_a4c4a_row0_col8, #T_a4c4a_row1_col0, #T_a4c4a_row1_col1, #T_a4c4a_row1_col2, #T_a4c4a_row1_col3, #T_a4c4a_row1_col4, #T_a4c4a_row1_col5, #T_a4c4a_row1_col6, #T_a4c4a_row1_col7, #T_a4c4a_row1_col8, #T_a4c4a_row2_col0, #T_a4c4a_row2_col1, #T_a4c4a_row2_col2, #T_a4c4a_row2_col3, #T_a4c4a_row2_col4, #T_a4c4a_row2_col5, #T_a4c4a_row2_col6, #T_a4c4a_row2_col7, #T_a4c4a_row2_col8, #T_a4c4a_row3_col0, #T_a4c4a_row3_col1, #T_a4c4a_row3_col2, #T_a4c4a_row3_col3, #T_a4c4a_row3_col4, #T_a4c4a_row3_col5, #T_a4c4a_row3_col6, #T_a4c4a_row3_col7, #T_a4c4a_row3_col8, #T_a4c4a_row4_col0, #T_a4c4a_row4_col1, #T_a4c4a_row4_col2, #T_a4c4a_row4_col3, #T_a4c4a_row4_col4, #T_a4c4a_row4_col5, #T_a4c4a_row4_col6, #T_a4c4a_row4_col7, #T_a4c4a_row4_col8, #T_a4c4a_row5_col0, #T_a4c4a_row5_col1, #T_a4c4a_row5_col2, #T_a4c4a_row5_col3, #T_a4c4a_row5_col4, #T_a4c4a_row5_col5, #T_a4c4a_row5_col6, #T_a4c4a_row5_col7, #T_a4c4a_row5_col8, #T_a4c4a_row6_col0, #T_a4c4a_row6_col1, #T_a4c4a_row6_col2, #T_a4c4a_row6_col3, #T_a4c4a_row6_col4, #T_a4c4a_row6_col5, #T_a4c4a_row6_col6, #T_a4c4a_row6_col7, #T_a4c4a_row6_col8, #T_a4c4a_row7_col0, #T_a4c4a_row7_col1, #T_a4c4a_row7_col2, #T_a4c4a_row7_col3, #T_a4c4a_row7_col4, #T_a4c4a_row7_col5, #T_a4c4a_row7_col6, #T_a4c4a_row7_col7, #T_a4c4a_row8_col0, #T_a4c4a_row8_col1, #T_a4c4a_row8_col2, #T_a4c4a_row8_col3, #T_a4c4a_row8_col4, #T_a4c4a_row8_col5, #T_a4c4a_row8_col6, #T_a4c4a_row8_col8 {\n",
       "  color: black;\n",
       "}\n",
       "#T_a4c4a_row7_col8, #T_a4c4a_row8_col7 {\n",
       "  color: red;\n",
       "}\n",
       "</style>\n",
       "<table id=\"T_a4c4a\">\n",
       "  <thead>\n",
       "    <tr>\n",
       "      <th class=\"blank level0\" >&nbsp;</th>\n",
       "      <th id=\"T_a4c4a_level0_col0\" class=\"col_heading level0 col0\" >Cement</th>\n",
       "      <th id=\"T_a4c4a_level0_col1\" class=\"col_heading level0 col1\" >Slag</th>\n",
       "      <th id=\"T_a4c4a_level0_col2\" class=\"col_heading level0 col2\" >Fly ash</th>\n",
       "      <th id=\"T_a4c4a_level0_col3\" class=\"col_heading level0 col3\" >Water</th>\n",
       "      <th id=\"T_a4c4a_level0_col4\" class=\"col_heading level0 col4\" >SP</th>\n",
       "      <th id=\"T_a4c4a_level0_col5\" class=\"col_heading level0 col5\" >Coarse Aggr.</th>\n",
       "      <th id=\"T_a4c4a_level0_col6\" class=\"col_heading level0 col6\" >Fine Aggr.</th>\n",
       "      <th id=\"T_a4c4a_level0_col7\" class=\"col_heading level0 col7\" >SLUMP(cm)</th>\n",
       "      <th id=\"T_a4c4a_level0_col8\" class=\"col_heading level0 col8\" >FLOW(cm)</th>\n",
       "    </tr>\n",
       "  </thead>\n",
       "  <tbody>\n",
       "    <tr>\n",
       "      <th id=\"T_a4c4a_level0_row0\" class=\"row_heading level0 row0\" >Cement</th>\n",
       "      <td id=\"T_a4c4a_row0_col0\" class=\"data row0 col0\" >1.000000</td>\n",
       "      <td id=\"T_a4c4a_row0_col1\" class=\"data row0 col1\" >-0.243553</td>\n",
       "      <td id=\"T_a4c4a_row0_col2\" class=\"data row0 col2\" >-0.486535</td>\n",
       "      <td id=\"T_a4c4a_row0_col3\" class=\"data row0 col3\" >0.221091</td>\n",
       "      <td id=\"T_a4c4a_row0_col4\" class=\"data row0 col4\" >-0.106387</td>\n",
       "      <td id=\"T_a4c4a_row0_col5\" class=\"data row0 col5\" >-0.309857</td>\n",
       "      <td id=\"T_a4c4a_row0_col6\" class=\"data row0 col6\" >0.056959</td>\n",
       "      <td id=\"T_a4c4a_row0_col7\" class=\"data row0 col7\" >0.145913</td>\n",
       "      <td id=\"T_a4c4a_row0_col8\" class=\"data row0 col8\" >0.186461</td>\n",
       "    </tr>\n",
       "    <tr>\n",
       "      <th id=\"T_a4c4a_level0_row1\" class=\"row_heading level0 row1\" >Slag</th>\n",
       "      <td id=\"T_a4c4a_row1_col0\" class=\"data row1 col0\" >-0.243553</td>\n",
       "      <td id=\"T_a4c4a_row1_col1\" class=\"data row1 col1\" >1.000000</td>\n",
       "      <td id=\"T_a4c4a_row1_col2\" class=\"data row1 col2\" >-0.322619</td>\n",
       "      <td id=\"T_a4c4a_row1_col3\" class=\"data row1 col3\" >-0.026775</td>\n",
       "      <td id=\"T_a4c4a_row1_col4\" class=\"data row1 col4\" >0.306504</td>\n",
       "      <td id=\"T_a4c4a_row1_col5\" class=\"data row1 col5\" >-0.223792</td>\n",
       "      <td id=\"T_a4c4a_row1_col6\" class=\"data row1 col6\" >-0.183522</td>\n",
       "      <td id=\"T_a4c4a_row1_col7\" class=\"data row1 col7\" >-0.284037</td>\n",
       "      <td id=\"T_a4c4a_row1_col8\" class=\"data row1 col8\" >-0.327231</td>\n",
       "    </tr>\n",
       "    <tr>\n",
       "      <th id=\"T_a4c4a_level0_row2\" class=\"row_heading level0 row2\" >Fly ash</th>\n",
       "      <td id=\"T_a4c4a_row2_col0\" class=\"data row2 col0\" >-0.486535</td>\n",
       "      <td id=\"T_a4c4a_row2_col1\" class=\"data row2 col1\" >-0.322619</td>\n",
       "      <td id=\"T_a4c4a_row2_col2\" class=\"data row2 col2\" >1.000000</td>\n",
       "      <td id=\"T_a4c4a_row2_col3\" class=\"data row2 col3\" >-0.241321</td>\n",
       "      <td id=\"T_a4c4a_row2_col4\" class=\"data row2 col4\" >-0.143508</td>\n",
       "      <td id=\"T_a4c4a_row2_col5\" class=\"data row2 col5\" >0.172620</td>\n",
       "      <td id=\"T_a4c4a_row2_col6\" class=\"data row2 col6\" >-0.282854</td>\n",
       "      <td id=\"T_a4c4a_row2_col7\" class=\"data row2 col7\" >-0.118621</td>\n",
       "      <td id=\"T_a4c4a_row2_col8\" class=\"data row2 col8\" >-0.055423</td>\n",
       "    </tr>\n",
       "    <tr>\n",
       "      <th id=\"T_a4c4a_level0_row3\" class=\"row_heading level0 row3\" >Water</th>\n",
       "      <td id=\"T_a4c4a_row3_col0\" class=\"data row3 col0\" >0.221091</td>\n",
       "      <td id=\"T_a4c4a_row3_col1\" class=\"data row3 col1\" >-0.026775</td>\n",
       "      <td id=\"T_a4c4a_row3_col2\" class=\"data row3 col2\" >-0.241321</td>\n",
       "      <td id=\"T_a4c4a_row3_col3\" class=\"data row3 col3\" >1.000000</td>\n",
       "      <td id=\"T_a4c4a_row3_col4\" class=\"data row3 col4\" >-0.155456</td>\n",
       "      <td id=\"T_a4c4a_row3_col5\" class=\"data row3 col5\" >-0.602201</td>\n",
       "      <td id=\"T_a4c4a_row3_col6\" class=\"data row3 col6\" >0.114591</td>\n",
       "      <td id=\"T_a4c4a_row3_col7\" class=\"data row3 col7\" >0.466568</td>\n",
       "      <td id=\"T_a4c4a_row3_col8\" class=\"data row3 col8\" >0.632026</td>\n",
       "    </tr>\n",
       "    <tr>\n",
       "      <th id=\"T_a4c4a_level0_row4\" class=\"row_heading level0 row4\" >SP</th>\n",
       "      <td id=\"T_a4c4a_row4_col0\" class=\"data row4 col0\" >-0.106387</td>\n",
       "      <td id=\"T_a4c4a_row4_col1\" class=\"data row4 col1\" >0.306504</td>\n",
       "      <td id=\"T_a4c4a_row4_col2\" class=\"data row4 col2\" >-0.143508</td>\n",
       "      <td id=\"T_a4c4a_row4_col3\" class=\"data row4 col3\" >-0.155456</td>\n",
       "      <td id=\"T_a4c4a_row4_col4\" class=\"data row4 col4\" >1.000000</td>\n",
       "      <td id=\"T_a4c4a_row4_col5\" class=\"data row4 col5\" >-0.104159</td>\n",
       "      <td id=\"T_a4c4a_row4_col6\" class=\"data row4 col6\" >0.058290</td>\n",
       "      <td id=\"T_a4c4a_row4_col7\" class=\"data row4 col7\" >-0.212902</td>\n",
       "      <td id=\"T_a4c4a_row4_col8\" class=\"data row4 col8\" >-0.176314</td>\n",
       "    </tr>\n",
       "    <tr>\n",
       "      <th id=\"T_a4c4a_level0_row5\" class=\"row_heading level0 row5\" >Coarse Aggr.</th>\n",
       "      <td id=\"T_a4c4a_row5_col0\" class=\"data row5 col0\" >-0.309857</td>\n",
       "      <td id=\"T_a4c4a_row5_col1\" class=\"data row5 col1\" >-0.223792</td>\n",
       "      <td id=\"T_a4c4a_row5_col2\" class=\"data row5 col2\" >0.172620</td>\n",
       "      <td id=\"T_a4c4a_row5_col3\" class=\"data row5 col3\" >-0.602201</td>\n",
       "      <td id=\"T_a4c4a_row5_col4\" class=\"data row5 col4\" >-0.104159</td>\n",
       "      <td id=\"T_a4c4a_row5_col5\" class=\"data row5 col5\" >1.000000</td>\n",
       "      <td id=\"T_a4c4a_row5_col6\" class=\"data row5 col6\" >-0.488537</td>\n",
       "      <td id=\"T_a4c4a_row5_col7\" class=\"data row5 col7\" >-0.188157</td>\n",
       "      <td id=\"T_a4c4a_row5_col8\" class=\"data row5 col8\" >-0.325787</td>\n",
       "    </tr>\n",
       "    <tr>\n",
       "      <th id=\"T_a4c4a_level0_row6\" class=\"row_heading level0 row6\" >Fine Aggr.</th>\n",
       "      <td id=\"T_a4c4a_row6_col0\" class=\"data row6 col0\" >0.056959</td>\n",
       "      <td id=\"T_a4c4a_row6_col1\" class=\"data row6 col1\" >-0.183522</td>\n",
       "      <td id=\"T_a4c4a_row6_col2\" class=\"data row6 col2\" >-0.282854</td>\n",
       "      <td id=\"T_a4c4a_row6_col3\" class=\"data row6 col3\" >0.114591</td>\n",
       "      <td id=\"T_a4c4a_row6_col4\" class=\"data row6 col4\" >0.058290</td>\n",
       "      <td id=\"T_a4c4a_row6_col5\" class=\"data row6 col5\" >-0.488537</td>\n",
       "      <td id=\"T_a4c4a_row6_col6\" class=\"data row6 col6\" >1.000000</td>\n",
       "      <td id=\"T_a4c4a_row6_col7\" class=\"data row6 col7\" >0.202272</td>\n",
       "      <td id=\"T_a4c4a_row6_col8\" class=\"data row6 col8\" >0.190370</td>\n",
       "    </tr>\n",
       "    <tr>\n",
       "      <th id=\"T_a4c4a_level0_row7\" class=\"row_heading level0 row7\" >SLUMP(cm)</th>\n",
       "      <td id=\"T_a4c4a_row7_col0\" class=\"data row7 col0\" >0.145913</td>\n",
       "      <td id=\"T_a4c4a_row7_col1\" class=\"data row7 col1\" >-0.284037</td>\n",
       "      <td id=\"T_a4c4a_row7_col2\" class=\"data row7 col2\" >-0.118621</td>\n",
       "      <td id=\"T_a4c4a_row7_col3\" class=\"data row7 col3\" >0.466568</td>\n",
       "      <td id=\"T_a4c4a_row7_col4\" class=\"data row7 col4\" >-0.212902</td>\n",
       "      <td id=\"T_a4c4a_row7_col5\" class=\"data row7 col5\" >-0.188157</td>\n",
       "      <td id=\"T_a4c4a_row7_col6\" class=\"data row7 col6\" >0.202272</td>\n",
       "      <td id=\"T_a4c4a_row7_col7\" class=\"data row7 col7\" >1.000000</td>\n",
       "      <td id=\"T_a4c4a_row7_col8\" class=\"data row7 col8\" >0.906135</td>\n",
       "    </tr>\n",
       "    <tr>\n",
       "      <th id=\"T_a4c4a_level0_row8\" class=\"row_heading level0 row8\" >FLOW(cm)</th>\n",
       "      <td id=\"T_a4c4a_row8_col0\" class=\"data row8 col0\" >0.186461</td>\n",
       "      <td id=\"T_a4c4a_row8_col1\" class=\"data row8 col1\" >-0.327231</td>\n",
       "      <td id=\"T_a4c4a_row8_col2\" class=\"data row8 col2\" >-0.055423</td>\n",
       "      <td id=\"T_a4c4a_row8_col3\" class=\"data row8 col3\" >0.632026</td>\n",
       "      <td id=\"T_a4c4a_row8_col4\" class=\"data row8 col4\" >-0.176314</td>\n",
       "      <td id=\"T_a4c4a_row8_col5\" class=\"data row8 col5\" >-0.325787</td>\n",
       "      <td id=\"T_a4c4a_row8_col6\" class=\"data row8 col6\" >0.190370</td>\n",
       "      <td id=\"T_a4c4a_row8_col7\" class=\"data row8 col7\" >0.906135</td>\n",
       "      <td id=\"T_a4c4a_row8_col8\" class=\"data row8 col8\" >1.000000</td>\n",
       "    </tr>\n",
       "  </tbody>\n",
       "</table>\n"
      ],
      "text/plain": [
       "<pandas.io.formats.style.Styler at 0x23788338790>"
      ]
     },
     "execution_count": 58,
     "metadata": {},
     "output_type": "execute_result"
    }
   ],
   "source": [
    "pd.DataFrame(X).corr().style.applymap(color_red)"
   ]
  },
  {
   "cell_type": "markdown",
   "metadata": {
    "id": "IkKMCPoXLkKj"
   },
   "source": [
    "# 2. Regularization"
   ]
  },
  {
   "cell_type": "markdown",
   "metadata": {
    "id": "EnODVEgbLkKj"
   },
   "source": [
    "## 2.1 Ridge (Apply and evaluate)"
   ]
  },
  {
   "cell_type": "code",
   "execution_count": 59,
   "metadata": {},
   "outputs": [
    {
     "data": {
      "text/plain": [
       "array([0.001, 0.002, 0.003, 0.004, 0.005, 0.006, 0.007, 0.008, 0.009,\n",
       "       0.01 , 0.011, 0.012, 0.013, 0.014, 0.015, 0.016, 0.017, 0.018,\n",
       "       0.019, 0.02 , 0.021, 0.022, 0.023, 0.024, 0.025, 0.026, 0.027,\n",
       "       0.028, 0.029, 0.03 , 0.031, 0.032, 0.033, 0.034, 0.035, 0.036,\n",
       "       0.037, 0.038, 0.039, 0.04 , 0.041, 0.042, 0.043, 0.044, 0.045,\n",
       "       0.046, 0.047, 0.048, 0.049, 0.05 , 0.051, 0.052, 0.053, 0.054,\n",
       "       0.055, 0.056, 0.057, 0.058, 0.059, 0.06 , 0.061, 0.062, 0.063,\n",
       "       0.064, 0.065, 0.066, 0.067, 0.068, 0.069, 0.07 , 0.071, 0.072,\n",
       "       0.073, 0.074, 0.075, 0.076, 0.077, 0.078, 0.079, 0.08 , 0.081,\n",
       "       0.082, 0.083, 0.084, 0.085, 0.086, 0.087, 0.088, 0.089, 0.09 ,\n",
       "       0.091, 0.092, 0.093, 0.094, 0.095, 0.096, 0.097, 0.098, 0.099,\n",
       "       0.1  ])"
      ]
     },
     "execution_count": 59,
     "metadata": {},
     "output_type": "execute_result"
    }
   ],
   "source": [
    "alpha_range = np.linspace(0.001,0.1,100)\n",
    "alpha_range"
   ]
  },
  {
   "cell_type": "code",
   "execution_count": 60,
   "metadata": {},
   "outputs": [],
   "source": [
    "ridge_cv_model = RidgeCV(alphas = alpha_range,cv=5,\n",
    "                         scoring=\"r2\")"
   ]
  },
  {
   "cell_type": "code",
   "execution_count": 61,
   "metadata": {},
   "outputs": [
    {
     "data": {
      "text/plain": [
       "RidgeCV(alphas=array([0.001, 0.002, 0.003, 0.004, 0.005, 0.006, 0.007, 0.008, 0.009,\n",
       "       0.01 , 0.011, 0.012, 0.013, 0.014, 0.015, 0.016, 0.017, 0.018,\n",
       "       0.019, 0.02 , 0.021, 0.022, 0.023, 0.024, 0.025, 0.026, 0.027,\n",
       "       0.028, 0.029, 0.03 , 0.031, 0.032, 0.033, 0.034, 0.035, 0.036,\n",
       "       0.037, 0.038, 0.039, 0.04 , 0.041, 0.042, 0.043, 0.044, 0.045,\n",
       "       0.046, 0.047, 0.048, 0.049, 0.05 , 0.051, 0.052, 0.053, 0.054,\n",
       "       0.055, 0.056, 0.057, 0.058, 0.059, 0.06 , 0.061, 0.062, 0.063,\n",
       "       0.064, 0.065, 0.066, 0.067, 0.068, 0.069, 0.07 , 0.071, 0.072,\n",
       "       0.073, 0.074, 0.075, 0.076, 0.077, 0.078, 0.079, 0.08 , 0.081,\n",
       "       0.082, 0.083, 0.084, 0.085, 0.086, 0.087, 0.088, 0.089, 0.09 ,\n",
       "       0.091, 0.092, 0.093, 0.094, 0.095, 0.096, 0.097, 0.098, 0.099,\n",
       "       0.1  ]),\n",
       "        cv=5, scoring='r2')"
      ]
     },
     "execution_count": 61,
     "metadata": {},
     "output_type": "execute_result"
    }
   ],
   "source": [
    "ridge_cv_model.fit(X_train_scaled,y_train)"
   ]
  },
  {
   "cell_type": "code",
   "execution_count": 62,
   "metadata": {
    "scrolled": true
   },
   "outputs": [
    {
     "data": {
      "text/plain": [
       "0.003"
      ]
     },
     "execution_count": 62,
     "metadata": {},
     "output_type": "execute_result"
    }
   ],
   "source": [
    "ridge_cv_model.alpha_"
   ]
  },
  {
   "cell_type": "code",
   "execution_count": 63,
   "metadata": {},
   "outputs": [
    {
     "data": {
      "text/plain": [
       "0.9736616622320649"
      ]
     },
     "execution_count": 63,
     "metadata": {},
     "output_type": "execute_result"
    }
   ],
   "source": [
    "ridge_cv_model.best_score_"
   ]
  },
  {
   "cell_type": "code",
   "execution_count": 64,
   "metadata": {
    "id": "Jivj_YF7M8p1"
   },
   "outputs": [],
   "source": [
    "ridge_model = Ridge(alpha=0.03, random_state=42)"
   ]
  },
  {
   "cell_type": "code",
   "execution_count": 65,
   "metadata": {},
   "outputs": [
    {
     "data": {
      "text/plain": [
       "Ridge(alpha=0.03, random_state=42)"
      ]
     },
     "execution_count": 65,
     "metadata": {},
     "output_type": "execute_result"
    }
   ],
   "source": [
    "ridge_model.fit(X_train_scaled,y_train)"
   ]
  },
  {
   "cell_type": "code",
   "execution_count": 66,
   "metadata": {},
   "outputs": [],
   "source": [
    "y_pred = ridge_model.predict(X_test_scaled)\n",
    "y_train_pred = ridge_model.predict(X_train_scaled)"
   ]
  },
  {
   "cell_type": "code",
   "execution_count": 67,
   "metadata": {},
   "outputs": [
    {
     "data": {
      "text/html": [
       "<div>\n",
       "<style scoped>\n",
       "    .dataframe tbody tr th:only-of-type {\n",
       "        vertical-align: middle;\n",
       "    }\n",
       "\n",
       "    .dataframe tbody tr th {\n",
       "        vertical-align: top;\n",
       "    }\n",
       "\n",
       "    .dataframe thead th {\n",
       "        text-align: right;\n",
       "    }\n",
       "</style>\n",
       "<table border=\"1\" class=\"dataframe\">\n",
       "  <thead>\n",
       "    <tr style=\"text-align: right;\">\n",
       "      <th></th>\n",
       "      <th>ridge_train</th>\n",
       "      <th>ridge_test</th>\n",
       "    </tr>\n",
       "  </thead>\n",
       "  <tbody>\n",
       "    <tr>\n",
       "      <th>R2</th>\n",
       "      <td>0.996</td>\n",
       "      <td>0.948</td>\n",
       "    </tr>\n",
       "    <tr>\n",
       "      <th>mae</th>\n",
       "      <td>0.376</td>\n",
       "      <td>1.425</td>\n",
       "    </tr>\n",
       "    <tr>\n",
       "      <th>mse</th>\n",
       "      <td>0.230</td>\n",
       "      <td>3.576</td>\n",
       "    </tr>\n",
       "    <tr>\n",
       "      <th>rmse</th>\n",
       "      <td>0.479</td>\n",
       "      <td>1.891</td>\n",
       "    </tr>\n",
       "  </tbody>\n",
       "</table>\n",
       "</div>"
      ],
      "text/plain": [
       "      ridge_train  ridge_test\n",
       "R2          0.996       0.948\n",
       "mae         0.376       1.425\n",
       "mse         0.230       3.576\n",
       "rmse        0.479       1.891"
      ]
     },
     "execution_count": 67,
     "metadata": {},
     "output_type": "execute_result"
    }
   ],
   "source": [
    "rs = train_val(y_train,y_train_pred,y_test,y_pred,\"ridge\")\n",
    "rs"
   ]
  },
  {
   "cell_type": "code",
   "execution_count": 68,
   "metadata": {},
   "outputs": [
    {
     "data": {
      "text/html": [
       "<div>\n",
       "<style scoped>\n",
       "    .dataframe tbody tr th:only-of-type {\n",
       "        vertical-align: middle;\n",
       "    }\n",
       "\n",
       "    .dataframe tbody tr th {\n",
       "        vertical-align: top;\n",
       "    }\n",
       "\n",
       "    .dataframe thead th {\n",
       "        text-align: right;\n",
       "    }\n",
       "</style>\n",
       "<table border=\"1\" class=\"dataframe\">\n",
       "  <thead>\n",
       "    <tr style=\"text-align: right;\">\n",
       "      <th></th>\n",
       "      <th>linear_train</th>\n",
       "      <th>linear_test</th>\n",
       "      <th>ridge_train</th>\n",
       "      <th>ridge_test</th>\n",
       "    </tr>\n",
       "  </thead>\n",
       "  <tbody>\n",
       "    <tr>\n",
       "      <th>R2</th>\n",
       "      <td>0.999</td>\n",
       "      <td>0.960</td>\n",
       "      <td>0.996</td>\n",
       "      <td>0.948</td>\n",
       "    </tr>\n",
       "    <tr>\n",
       "      <th>mae</th>\n",
       "      <td>0.170</td>\n",
       "      <td>1.219</td>\n",
       "      <td>0.376</td>\n",
       "      <td>1.425</td>\n",
       "    </tr>\n",
       "    <tr>\n",
       "      <th>mse</th>\n",
       "      <td>0.049</td>\n",
       "      <td>2.707</td>\n",
       "      <td>0.230</td>\n",
       "      <td>3.576</td>\n",
       "    </tr>\n",
       "    <tr>\n",
       "      <th>rmse</th>\n",
       "      <td>0.221</td>\n",
       "      <td>1.645</td>\n",
       "      <td>0.479</td>\n",
       "      <td>1.891</td>\n",
       "    </tr>\n",
       "  </tbody>\n",
       "</table>\n",
       "</div>"
      ],
      "text/plain": [
       "      linear_train  linear_test  ridge_train  ridge_test\n",
       "R2           0.999        0.960        0.996       0.948\n",
       "mae          0.170        1.219        0.376       1.425\n",
       "mse          0.049        2.707        0.230       3.576\n",
       "rmse         0.221        1.645        0.479       1.891"
      ]
     },
     "execution_count": 68,
     "metadata": {},
     "output_type": "execute_result"
    }
   ],
   "source": [
    "pd.concat([model2,rs],axis=1)\n",
    "# r2 neden azalduğını anlayamadım ?"
   ]
  },
  {
   "cell_type": "code",
   "execution_count": 69,
   "metadata": {},
   "outputs": [],
   "source": [
    "### cross validation ile en iyisi ile karşılaştıralım"
   ]
  },
  {
   "cell_type": "code",
   "execution_count": 70,
   "metadata": {},
   "outputs": [],
   "source": [
    "model = Ridge(alpha=0.03 , random_state=42)\n",
    "scores = cross_validate(model,X_train_scaled, y_train,\n",
    "                       scoring=[\"r2\",\"neg_mean_absolute_error\",\"neg_mean_squared_error\",\n",
    "                               \"neg_root_mean_squared_error\"], cv=5)"
   ]
  },
  {
   "cell_type": "code",
   "execution_count": 71,
   "metadata": {},
   "outputs": [
    {
     "data": {
      "text/plain": [
       "test_r2                             0.911\n",
       "test_neg_mean_absolute_error       -1.399\n",
       "test_neg_mean_squared_error        -3.959\n",
       "test_neg_root_mean_squared_error   -1.914\n",
       "dtype: float64"
      ]
     },
     "execution_count": 71,
     "metadata": {},
     "output_type": "execute_result"
    }
   ],
   "source": [
    "scores = pd.DataFrame(scores,index=range(1,6))\n",
    "scores.iloc[:,2:].mean()"
   ]
  },
  {
   "cell_type": "markdown",
   "metadata": {
    "id": "V6YuerUULkKl"
   },
   "source": [
    "## 2.2 Lasso (Apply and evalute)"
   ]
  },
  {
   "cell_type": "code",
   "execution_count": 72,
   "metadata": {
    "scrolled": true
   },
   "outputs": [
    {
     "data": {
      "text/plain": [
       "array([0.001, 0.002, 0.003, 0.004, 0.005, 0.006, 0.007, 0.008, 0.009,\n",
       "       0.01 , 0.011, 0.012, 0.013, 0.014, 0.015, 0.016, 0.017, 0.018,\n",
       "       0.019, 0.02 , 0.021, 0.022, 0.023, 0.024, 0.025, 0.026, 0.027,\n",
       "       0.028, 0.029, 0.03 , 0.031, 0.032, 0.033, 0.034, 0.035, 0.036,\n",
       "       0.037, 0.038, 0.039, 0.04 , 0.041, 0.042, 0.043, 0.044, 0.045,\n",
       "       0.046, 0.047, 0.048, 0.049, 0.05 , 0.051, 0.052, 0.053, 0.054,\n",
       "       0.055, 0.056, 0.057, 0.058, 0.059, 0.06 , 0.061, 0.062, 0.063,\n",
       "       0.064, 0.065, 0.066, 0.067, 0.068, 0.069, 0.07 , 0.071, 0.072,\n",
       "       0.073, 0.074, 0.075, 0.076, 0.077, 0.078, 0.079, 0.08 , 0.081,\n",
       "       0.082, 0.083, 0.084, 0.085, 0.086, 0.087, 0.088, 0.089, 0.09 ,\n",
       "       0.091, 0.092, 0.093, 0.094, 0.095, 0.096, 0.097, 0.098, 0.099,\n",
       "       0.1  ])"
      ]
     },
     "execution_count": 72,
     "metadata": {},
     "output_type": "execute_result"
    }
   ],
   "source": [
    "alpha_range = np.linspace(0.001,0.1,100)\n",
    "alpha_range"
   ]
  },
  {
   "cell_type": "code",
   "execution_count": 73,
   "metadata": {},
   "outputs": [],
   "source": [
    "lasso_cv_model = LassoCV(alphas = alpha_range, cv=5,\n",
    "                         max_iter = 100000,random_state=42)"
   ]
  },
  {
   "cell_type": "code",
   "execution_count": 74,
   "metadata": {},
   "outputs": [
    {
     "data": {
      "text/plain": [
       "LassoCV(alphas=array([0.001, 0.002, 0.003, 0.004, 0.005, 0.006, 0.007, 0.008, 0.009,\n",
       "       0.01 , 0.011, 0.012, 0.013, 0.014, 0.015, 0.016, 0.017, 0.018,\n",
       "       0.019, 0.02 , 0.021, 0.022, 0.023, 0.024, 0.025, 0.026, 0.027,\n",
       "       0.028, 0.029, 0.03 , 0.031, 0.032, 0.033, 0.034, 0.035, 0.036,\n",
       "       0.037, 0.038, 0.039, 0.04 , 0.041, 0.042, 0.043, 0.044, 0.045,\n",
       "       0.046, 0.047, 0.048, 0.049, 0.05 , 0.051, 0.052, 0.053, 0.054,\n",
       "       0.055, 0.056, 0.057, 0.058, 0.059, 0.06 , 0.061, 0.062, 0.063,\n",
       "       0.064, 0.065, 0.066, 0.067, 0.068, 0.069, 0.07 , 0.071, 0.072,\n",
       "       0.073, 0.074, 0.075, 0.076, 0.077, 0.078, 0.079, 0.08 , 0.081,\n",
       "       0.082, 0.083, 0.084, 0.085, 0.086, 0.087, 0.088, 0.089, 0.09 ,\n",
       "       0.091, 0.092, 0.093, 0.094, 0.095, 0.096, 0.097, 0.098, 0.099,\n",
       "       0.1  ]),\n",
       "        cv=5, max_iter=100000, random_state=42)"
      ]
     },
     "execution_count": 74,
     "metadata": {},
     "output_type": "execute_result"
    }
   ],
   "source": [
    "lasso_cv_model.fit(X_train_scaled,y_train)"
   ]
  },
  {
   "cell_type": "code",
   "execution_count": 75,
   "metadata": {},
   "outputs": [
    {
     "data": {
      "text/plain": [
       "0.001"
      ]
     },
     "execution_count": 75,
     "metadata": {},
     "output_type": "execute_result"
    }
   ],
   "source": [
    "lasso_cv_model.alpha_"
   ]
  },
  {
   "cell_type": "code",
   "execution_count": 76,
   "metadata": {
    "id": "U7PzzbLqM8K9"
   },
   "outputs": [
    {
     "data": {
      "text/plain": [
       "Lasso(alpha=0.01, random_state=42)"
      ]
     },
     "execution_count": 76,
     "metadata": {},
     "output_type": "execute_result"
    }
   ],
   "source": [
    "lasso_model = Lasso(alpha = 0.01, random_state=42)\n",
    "lasso_model.fit(X_train_scaled,y_train)"
   ]
  },
  {
   "cell_type": "code",
   "execution_count": 77,
   "metadata": {},
   "outputs": [
    {
     "data": {
      "text/html": [
       "<div>\n",
       "<style scoped>\n",
       "    .dataframe tbody tr th:only-of-type {\n",
       "        vertical-align: middle;\n",
       "    }\n",
       "\n",
       "    .dataframe tbody tr th {\n",
       "        vertical-align: top;\n",
       "    }\n",
       "\n",
       "    .dataframe thead th {\n",
       "        text-align: right;\n",
       "    }\n",
       "</style>\n",
       "<table border=\"1\" class=\"dataframe\">\n",
       "  <thead>\n",
       "    <tr style=\"text-align: right;\">\n",
       "      <th></th>\n",
       "      <th>lasso_train</th>\n",
       "      <th>lasso_test</th>\n",
       "    </tr>\n",
       "  </thead>\n",
       "  <tbody>\n",
       "    <tr>\n",
       "      <th>R2</th>\n",
       "      <td>0.996</td>\n",
       "      <td>0.948</td>\n",
       "    </tr>\n",
       "    <tr>\n",
       "      <th>mae</th>\n",
       "      <td>0.376</td>\n",
       "      <td>1.425</td>\n",
       "    </tr>\n",
       "    <tr>\n",
       "      <th>mse</th>\n",
       "      <td>0.230</td>\n",
       "      <td>3.576</td>\n",
       "    </tr>\n",
       "    <tr>\n",
       "      <th>rmse</th>\n",
       "      <td>0.479</td>\n",
       "      <td>1.891</td>\n",
       "    </tr>\n",
       "  </tbody>\n",
       "</table>\n",
       "</div>"
      ],
      "text/plain": [
       "      lasso_train  lasso_test\n",
       "R2          0.996       0.948\n",
       "mae         0.376       1.425\n",
       "mse         0.230       3.576\n",
       "rmse        0.479       1.891"
      ]
     },
     "execution_count": 77,
     "metadata": {},
     "output_type": "execute_result"
    }
   ],
   "source": [
    "ls = train_val(y_train,y_train_pred,y_test,y_pred,\"lasso\")\n",
    "ls"
   ]
  },
  {
   "cell_type": "code",
   "execution_count": 78,
   "metadata": {},
   "outputs": [
    {
     "data": {
      "text/html": [
       "<div>\n",
       "<style scoped>\n",
       "    .dataframe tbody tr th:only-of-type {\n",
       "        vertical-align: middle;\n",
       "    }\n",
       "\n",
       "    .dataframe tbody tr th {\n",
       "        vertical-align: top;\n",
       "    }\n",
       "\n",
       "    .dataframe thead th {\n",
       "        text-align: right;\n",
       "    }\n",
       "</style>\n",
       "<table border=\"1\" class=\"dataframe\">\n",
       "  <thead>\n",
       "    <tr style=\"text-align: right;\">\n",
       "      <th></th>\n",
       "      <th>linear_train</th>\n",
       "      <th>linear_test</th>\n",
       "      <th>ridge_train</th>\n",
       "      <th>ridge_test</th>\n",
       "      <th>lasso_train</th>\n",
       "      <th>lasso_test</th>\n",
       "    </tr>\n",
       "  </thead>\n",
       "  <tbody>\n",
       "    <tr>\n",
       "      <th>R2</th>\n",
       "      <td>0.999</td>\n",
       "      <td>0.960</td>\n",
       "      <td>0.996</td>\n",
       "      <td>0.948</td>\n",
       "      <td>0.996</td>\n",
       "      <td>0.948</td>\n",
       "    </tr>\n",
       "    <tr>\n",
       "      <th>mae</th>\n",
       "      <td>0.170</td>\n",
       "      <td>1.219</td>\n",
       "      <td>0.376</td>\n",
       "      <td>1.425</td>\n",
       "      <td>0.376</td>\n",
       "      <td>1.425</td>\n",
       "    </tr>\n",
       "    <tr>\n",
       "      <th>mse</th>\n",
       "      <td>0.049</td>\n",
       "      <td>2.707</td>\n",
       "      <td>0.230</td>\n",
       "      <td>3.576</td>\n",
       "      <td>0.230</td>\n",
       "      <td>3.576</td>\n",
       "    </tr>\n",
       "    <tr>\n",
       "      <th>rmse</th>\n",
       "      <td>0.221</td>\n",
       "      <td>1.645</td>\n",
       "      <td>0.479</td>\n",
       "      <td>1.891</td>\n",
       "      <td>0.479</td>\n",
       "      <td>1.891</td>\n",
       "    </tr>\n",
       "  </tbody>\n",
       "</table>\n",
       "</div>"
      ],
      "text/plain": [
       "      linear_train  linear_test  ridge_train  ridge_test  lasso_train  \\\n",
       "R2           0.999        0.960        0.996       0.948        0.996   \n",
       "mae          0.170        1.219        0.376       1.425        0.376   \n",
       "mse          0.049        2.707        0.230       3.576        0.230   \n",
       "rmse         0.221        1.645        0.479       1.891        0.479   \n",
       "\n",
       "      lasso_test  \n",
       "R2         0.948  \n",
       "mae        1.425  \n",
       "mse        3.576  \n",
       "rmse       1.891  "
      ]
     },
     "execution_count": 78,
     "metadata": {},
     "output_type": "execute_result"
    }
   ],
   "source": [
    "pd.concat([model2,rs,ls],axis=1)"
   ]
  },
  {
   "cell_type": "code",
   "execution_count": 79,
   "metadata": {},
   "outputs": [],
   "source": [
    "# modelimize cross validation'la bakalım"
   ]
  },
  {
   "cell_type": "code",
   "execution_count": 80,
   "metadata": {},
   "outputs": [],
   "source": [
    "model = Ridge(alpha=0.01 , random_state=42)\n",
    "scores = cross_validate(model,X_train_scaled, y_train,\n",
    "                       scoring=[\"r2\",\"neg_mean_absolute_error\",\"neg_mean_squared_error\",\n",
    "                               \"neg_root_mean_squared_error\"], cv=5)"
   ]
  },
  {
   "cell_type": "code",
   "execution_count": 81,
   "metadata": {},
   "outputs": [
    {
     "data": {
      "text/plain": [
       "test_r2                             0.954\n",
       "test_neg_mean_absolute_error       -1.122\n",
       "test_neg_mean_squared_error        -2.493\n",
       "test_neg_root_mean_squared_error   -1.473\n",
       "dtype: float64"
      ]
     },
     "execution_count": 81,
     "metadata": {},
     "output_type": "execute_result"
    }
   ],
   "source": [
    "scores = pd.DataFrame(scores,index=range(1,6))\n",
    "scores.iloc[:,2:].mean()"
   ]
  },
  {
   "cell_type": "markdown",
   "metadata": {
    "id": "B_4SjDxcLkKn"
   },
   "source": [
    "## 2.3 Elastic-Net (Apply and evaluate )\n",
    "* Use Gridsearch for hyperparameter tuning instead of ElacticnetCV"
   ]
  },
  {
   "cell_type": "code",
   "execution_count": 82,
   "metadata": {},
   "outputs": [],
   "source": [
    "# önce best alpha ve l1_raito bulalım\n",
    "elastic_cv_model = ElasticNetCV(alphas= alpha_range,l1_ratio=[0.05,0.1,0.25,0.5,0.75,0.90,0.95,1],\n",
    "                               cv= 5 , max_iter=100000,random_state=42)"
   ]
  },
  {
   "cell_type": "code",
   "execution_count": 83,
   "metadata": {},
   "outputs": [
    {
     "data": {
      "text/plain": [
       "ElasticNetCV(alphas=array([0.001, 0.002, 0.003, 0.004, 0.005, 0.006, 0.007, 0.008, 0.009,\n",
       "       0.01 , 0.011, 0.012, 0.013, 0.014, 0.015, 0.016, 0.017, 0.018,\n",
       "       0.019, 0.02 , 0.021, 0.022, 0.023, 0.024, 0.025, 0.026, 0.027,\n",
       "       0.028, 0.029, 0.03 , 0.031, 0.032, 0.033, 0.034, 0.035, 0.036,\n",
       "       0.037, 0.038, 0.039, 0.04 , 0.041, 0.042, 0.043, 0.044, 0.045,\n",
       "       0.046, 0.047, 0.048, 0.049, 0.05 , 0.051, 0.052, 0.053, 0.054,\n",
       "       0.055, 0.056, 0.057, 0.058, 0.059, 0.06 , 0.061, 0.062, 0.063,\n",
       "       0.064, 0.065, 0.066, 0.067, 0.068, 0.069, 0.07 , 0.071, 0.072,\n",
       "       0.073, 0.074, 0.075, 0.076, 0.077, 0.078, 0.079, 0.08 , 0.081,\n",
       "       0.082, 0.083, 0.084, 0.085, 0.086, 0.087, 0.088, 0.089, 0.09 ,\n",
       "       0.091, 0.092, 0.093, 0.094, 0.095, 0.096, 0.097, 0.098, 0.099,\n",
       "       0.1  ]),\n",
       "             cv=5, l1_ratio=[0.05, 0.1, 0.25, 0.5, 0.75, 0.9, 0.95, 1],\n",
       "             max_iter=100000, random_state=42)"
      ]
     },
     "execution_count": 83,
     "metadata": {},
     "output_type": "execute_result"
    }
   ],
   "source": [
    "elastic_cv_model.fit(X_train_scaled,y_train)\n"
   ]
  },
  {
   "cell_type": "code",
   "execution_count": 84,
   "metadata": {},
   "outputs": [
    {
     "data": {
      "text/plain": [
       "0.001"
      ]
     },
     "execution_count": 84,
     "metadata": {},
     "output_type": "execute_result"
    }
   ],
   "source": [
    "elastic_cv_model.alpha_ "
   ]
  },
  {
   "cell_type": "code",
   "execution_count": 85,
   "metadata": {},
   "outputs": [
    {
     "data": {
      "text/plain": [
       "1.0"
      ]
     },
     "execution_count": 85,
     "metadata": {},
     "output_type": "execute_result"
    }
   ],
   "source": [
    "elastic_cv_model.l1_ratio_ "
   ]
  },
  {
   "cell_type": "code",
   "execution_count": 86,
   "metadata": {
    "id": "U_cMyIkXLkKs"
   },
   "outputs": [
    {
     "data": {
      "text/plain": [
       "ElasticNet(alpha=0.001, l1_ratio=1, random_state=42)"
      ]
     },
     "execution_count": 86,
     "metadata": {},
     "output_type": "execute_result"
    }
   ],
   "source": [
    "# modelimiz için alpha 0.001 , l1_raito 1.0 alalım\n",
    "elastic_model = ElasticNet(alpha=0.001, l1_ratio=1,random_state=42)\n",
    "elastic_model.fit(X_train_scaled,y_train)"
   ]
  },
  {
   "cell_type": "code",
   "execution_count": 87,
   "metadata": {},
   "outputs": [
    {
     "data": {
      "text/html": [
       "<div>\n",
       "<style scoped>\n",
       "    .dataframe tbody tr th:only-of-type {\n",
       "        vertical-align: middle;\n",
       "    }\n",
       "\n",
       "    .dataframe tbody tr th {\n",
       "        vertical-align: top;\n",
       "    }\n",
       "\n",
       "    .dataframe thead th {\n",
       "        text-align: right;\n",
       "    }\n",
       "</style>\n",
       "<table border=\"1\" class=\"dataframe\">\n",
       "  <thead>\n",
       "    <tr style=\"text-align: right;\">\n",
       "      <th></th>\n",
       "      <th>elastic_net_train</th>\n",
       "      <th>elastic_net_test</th>\n",
       "    </tr>\n",
       "  </thead>\n",
       "  <tbody>\n",
       "    <tr>\n",
       "      <th>R2</th>\n",
       "      <td>0.996</td>\n",
       "      <td>0.948</td>\n",
       "    </tr>\n",
       "    <tr>\n",
       "      <th>mae</th>\n",
       "      <td>0.376</td>\n",
       "      <td>1.425</td>\n",
       "    </tr>\n",
       "    <tr>\n",
       "      <th>mse</th>\n",
       "      <td>0.230</td>\n",
       "      <td>3.576</td>\n",
       "    </tr>\n",
       "    <tr>\n",
       "      <th>rmse</th>\n",
       "      <td>0.479</td>\n",
       "      <td>1.891</td>\n",
       "    </tr>\n",
       "  </tbody>\n",
       "</table>\n",
       "</div>"
      ],
      "text/plain": [
       "      elastic_net_train  elastic_net_test\n",
       "R2                0.996             0.948\n",
       "mae               0.376             1.425\n",
       "mse               0.230             3.576\n",
       "rmse              0.479             1.891"
      ]
     },
     "execution_count": 87,
     "metadata": {},
     "output_type": "execute_result"
    }
   ],
   "source": [
    "en = train_val(y_train,y_train_pred,  y_test,y_pred,\"elastic_net\")\n",
    "en"
   ]
  },
  {
   "cell_type": "code",
   "execution_count": 88,
   "metadata": {
    "scrolled": true
   },
   "outputs": [
    {
     "data": {
      "text/html": [
       "<div>\n",
       "<style scoped>\n",
       "    .dataframe tbody tr th:only-of-type {\n",
       "        vertical-align: middle;\n",
       "    }\n",
       "\n",
       "    .dataframe tbody tr th {\n",
       "        vertical-align: top;\n",
       "    }\n",
       "\n",
       "    .dataframe thead th {\n",
       "        text-align: right;\n",
       "    }\n",
       "</style>\n",
       "<table border=\"1\" class=\"dataframe\">\n",
       "  <thead>\n",
       "    <tr style=\"text-align: right;\">\n",
       "      <th></th>\n",
       "      <th>linear_train</th>\n",
       "      <th>linear_test</th>\n",
       "      <th>ridge_train</th>\n",
       "      <th>ridge_test</th>\n",
       "      <th>lasso_train</th>\n",
       "      <th>lasso_test</th>\n",
       "      <th>elastic_net_train</th>\n",
       "      <th>elastic_net_test</th>\n",
       "    </tr>\n",
       "  </thead>\n",
       "  <tbody>\n",
       "    <tr>\n",
       "      <th>R2</th>\n",
       "      <td>0.999</td>\n",
       "      <td>0.960</td>\n",
       "      <td>0.996</td>\n",
       "      <td>0.948</td>\n",
       "      <td>0.996</td>\n",
       "      <td>0.948</td>\n",
       "      <td>0.996</td>\n",
       "      <td>0.948</td>\n",
       "    </tr>\n",
       "    <tr>\n",
       "      <th>mae</th>\n",
       "      <td>0.170</td>\n",
       "      <td>1.219</td>\n",
       "      <td>0.376</td>\n",
       "      <td>1.425</td>\n",
       "      <td>0.376</td>\n",
       "      <td>1.425</td>\n",
       "      <td>0.376</td>\n",
       "      <td>1.425</td>\n",
       "    </tr>\n",
       "    <tr>\n",
       "      <th>mse</th>\n",
       "      <td>0.049</td>\n",
       "      <td>2.707</td>\n",
       "      <td>0.230</td>\n",
       "      <td>3.576</td>\n",
       "      <td>0.230</td>\n",
       "      <td>3.576</td>\n",
       "      <td>0.230</td>\n",
       "      <td>3.576</td>\n",
       "    </tr>\n",
       "    <tr>\n",
       "      <th>rmse</th>\n",
       "      <td>0.221</td>\n",
       "      <td>1.645</td>\n",
       "      <td>0.479</td>\n",
       "      <td>1.891</td>\n",
       "      <td>0.479</td>\n",
       "      <td>1.891</td>\n",
       "      <td>0.479</td>\n",
       "      <td>1.891</td>\n",
       "    </tr>\n",
       "  </tbody>\n",
       "</table>\n",
       "</div>"
      ],
      "text/plain": [
       "      linear_train  linear_test  ridge_train  ridge_test  lasso_train  \\\n",
       "R2           0.999        0.960        0.996       0.948        0.996   \n",
       "mae          0.170        1.219        0.376       1.425        0.376   \n",
       "mse          0.049        2.707        0.230       3.576        0.230   \n",
       "rmse         0.221        1.645        0.479       1.891        0.479   \n",
       "\n",
       "      lasso_test  elastic_net_train  elastic_net_test  \n",
       "R2         0.948              0.996             0.948  \n",
       "mae        1.425              0.376             1.425  \n",
       "mse        3.576              0.230             3.576  \n",
       "rmse       1.891              0.479             1.891  "
      ]
     },
     "execution_count": 88,
     "metadata": {},
     "output_type": "execute_result"
    }
   ],
   "source": [
    "pd.concat([model2,rs,ls,en],axis=1)"
   ]
  },
  {
   "cell_type": "code",
   "execution_count": 89,
   "metadata": {},
   "outputs": [],
   "source": [
    "# cross validation bakalım"
   ]
  },
  {
   "cell_type": "code",
   "execution_count": 90,
   "metadata": {},
   "outputs": [],
   "source": [
    "model = ElasticNet(alpha=0.001,l1_ratio=1,random_state=42)\n",
    "scores = cross_validate(model,X_train_scaled,y_train,\n",
    "                       scoring=[\"r2\",\"neg_mean_absolute_error\",\n",
    "                               \"neg_mean_squared_error\",\"neg_root_mean_squared_error\"],\n",
    "                       cv=5)"
   ]
  },
  {
   "cell_type": "code",
   "execution_count": 91,
   "metadata": {},
   "outputs": [
    {
     "data": {
      "text/plain": [
       "test_r2                             0.850\n",
       "test_neg_mean_absolute_error       -1.728\n",
       "test_neg_mean_squared_error        -6.329\n",
       "test_neg_root_mean_squared_error   -2.429\n",
       "dtype: float64"
      ]
     },
     "execution_count": 91,
     "metadata": {},
     "output_type": "execute_result"
    }
   ],
   "source": [
    "scores = pd.DataFrame(scores,index=range(1,6))\n",
    "scores.iloc[:,2:].mean()"
   ]
  },
  {
   "cell_type": "markdown",
   "metadata": {},
   "source": [
    "# THE END"
   ]
  }
 ],
 "metadata": {
  "colab": {
   "collapsed_sections": [],
   "name": "cement_slump_notebook.assignment1.ipynb",
   "provenance": []
  },
  "kernelspec": {
   "display_name": "Python 3 (ipykernel)",
   "language": "python",
   "name": "python3"
  },
  "language_info": {
   "codemirror_mode": {
    "name": "ipython",
    "version": 3
   },
   "file_extension": ".py",
   "mimetype": "text/x-python",
   "name": "python",
   "nbconvert_exporter": "python",
   "pygments_lexer": "ipython3",
   "version": "3.8.8"
  }
 },
 "nbformat": 4,
 "nbformat_minor": 1
}
